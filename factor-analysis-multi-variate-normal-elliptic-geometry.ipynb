{
 "cells": [
  {
   "cell_type": "markdown",
   "metadata": {
    "deletable": true,
    "editable": true
   },
   "source": [
    "# Elliptic Geometry of Multivariate Normal Distribution (Gaussian Distribution)"
   ]
  },
  {
   "cell_type": "markdown",
   "metadata": {
    "deletable": true,
    "editable": true
   },
   "source": [
    "The paper [Understanding Statistical Methods through Elliptical Geometry](http://citeseerx.ist.psu.edu/viewdoc/summary?doi=10.1.1.259.3710&rank=1) by Michael Friendly, Georges Monette, John Fox, Michael Friendly, Georges Monette and John Fox is a great resource for visualizing the geometry of the [Multivariate Normal Distribution](https://en.wikipedia.org/wiki/Multivariate_normal_distribution)."
   ]
  },
  {
   "cell_type": "markdown",
   "metadata": {
    "deletable": true,
    "editable": true
   },
   "source": [
    "The [singular value decomposition](https://en.wikipedia.org/wiki/Singular-value_decomposition) will also play a role here and the summary from [Venkatesan Guruswami](http://www.cs.cmu.edu/~venkatg/) that you can find [here](http://www.cs.cmu.edu/~venkatg/teaching/CStheory-infoage/SVD-chap.pdf) gives you a good background on that. In addition I suggest you have a look at chapter 12.2.3 \"Singular value decomposition (SVD)\" in [Machine Learning: A Probabilistic Perspective](https://www.amazon.com/Machine-Learning-Probabilistic-Perspective-Computation/dp/0262018020)."
   ]
  },
  {
   "cell_type": "markdown",
   "metadata": {
    "deletable": true,
    "editable": true
   },
   "source": [
    "# Standard python imports"
   ]
  },
  {
   "cell_type": "code",
   "execution_count": 1,
   "metadata": {
    "collapsed": true,
    "deletable": true,
    "editable": true
   },
   "outputs": [],
   "source": [
    "%%capture\n",
    "%matplotlib inline\n",
    "import locale\n",
    "locale.setlocale(locale.LC_ALL, 'C')\n",
    "import os, timeit, collections\n",
    "\n",
    "import IPython.display\n",
    "\n",
    "import numpy as np, scipy, scipy.stats as stats, scipy.special, scipy.linalg, pandas as pd, \\\n",
    "    matplotlib.pyplot as plt, matplotlib.dates, matplotlib.ticker, xarray as xr, seaborn as sns\n",
    "import sklearn.preprocessing\n",
    "\n",
    "pd.set_option('display.max_columns', 500)\n",
    "pd.set_option('display.width', 1000)\n",
    "pd.set_option('display.float_format', lambda x: '%.4f' % x)\n",
    "np.set_printoptions(edgeitems=10)\n",
    "np.set_printoptions(suppress=True)\n",
    "np.set_printoptions(precision=8)\n",
    "np.core.arrayprint._line_width = 180\n",
    "\n",
    "sns.set()\n",
    "\n",
    "SEED = 42\n",
    "np.random.seed(SEED)"
   ]
  },
  {
   "cell_type": "code",
   "execution_count": 2,
   "metadata": {
    "collapsed": true,
    "deletable": true,
    "editable": true
   },
   "outputs": [],
   "source": [
    "%load_ext autoreload\n",
    "%autoreload 1\n",
    "#%aimport fa_basics\n",
    "%aimport mvn_basics"
   ]
  },
  {
   "cell_type": "markdown",
   "metadata": {
    "deletable": true,
    "editable": true
   },
   "source": [
    "# Constructing a covariance matrix"
   ]
  },
  {
   "cell_type": "markdown",
   "metadata": {
    "deletable": true,
    "editable": true
   },
   "source": [
    "In the exponent of the multivariate normal distribution you come across a term $\\pmb{x^T}\\pmb{\\Sigma}^{-1}\\pmb{x}$. Many years ago at university in the linear algebra lectures we called that in German a [Quadrik](https://de.wikipedia.org/wiki/Quadrik) and I summarized some of the results in a [pdf document](https://github.com/cs224/dev-meetup-dimensionality-reduction/blob/master/quadriken.pdf). What we need is all in the document above: [Understanding Statistical Methods through Elliptical Geometry](http://citeseerx.ist.psu.edu/viewdoc/summary?doi=10.1.1.259.3710&rank=1)."
   ]
  },
  {
   "cell_type": "markdown",
   "metadata": {
    "deletable": true,
    "editable": true
   },
   "source": [
    "What is important is to understand the location of all points fulfilling the requirement: $\\mathcal{E}=\\{\\pmb{x}: \\pmb{x^T}\\pmb{\\Sigma}^{-1}\\pmb{x}=1\\}$ as an ellipse in $\\mathbb{R}^n$. Let's give $\\pmb{\\Sigma}^{-1}$ a separate name and let's call it $\\pmb{T}$. We then can construct this ellipse by scaling a unit circle: $\\mathcal{S}=\\{\\pmb{x}: \\pmb{x^T}\\pmb{I}\\pmb{x}=1\\}$ as follows:"
   ]
  },
  {
   "cell_type": "markdown",
   "metadata": {
    "deletable": true,
    "editable": true
   },
   "source": [
    "$$\\mathcal{E}=\\pmb{\\mu}+\\pmb{A}\\mathcal{S}\\qquad\\hbox{with}\\qquad\\pmb{T}=(\\pmb{A}\\pmb{A}^T)^{-1}$$"
   ]
  },
  {
   "cell_type": "markdown",
   "metadata": {
    "deletable": true,
    "editable": true
   },
   "source": [
    "Going forward we will assume without loss of generality that $\\pmb{\\mu}=0$."
   ]
  },
  {
   "cell_type": "markdown",
   "metadata": {
    "deletable": true,
    "editable": true
   },
   "source": [
    "This decomposition of $\\pmb{T}$ into $(\\pmb{A}\\pmb{A}^T)^{-1}$ is not unique, and you have several choices on how to do that. \n",
    "\n",
    "Easiest (for me) to understand and also most useful in constructing a specific covariance matrix is the eigen decomposition:\n",
    "$$\n",
    "\\begin{matrix}\n",
    "&\\pmb{T}&=&\\pmb{E}\\cdot\\pmb{\\Gamma}^{-1}\\cdot\\pmb{E^T}\\\\\n",
    "\\Rightarrow&\\pmb{A}&=&\\pmb{E}\\cdot\\sqrt{\\pmb{\\Gamma}}\\\\\n",
    "\\Rightarrow&\\pmb{\\Sigma}&=&\\pmb{E}\\cdot\\pmb{\\Gamma}\\cdot\\pmb{E^T}\\\\\n",
    "\\end{matrix}\n",
    "$$\n",
    "where $\\pmb{\\Gamma}$ is the diagonal matrix with the eigenvalues of $\\pmb{\\Sigma}$ on the diagonal. You can understand this as picking an arbitrary orthogonal coordinate system and then scaling the unit sphere along its coordinate axis by the square-root eigenvalues on the diagonal. You can also see that $\\pmb{T}$ and $\\pmb{\\Sigma}$ have the same eigenvectors, but inverse eigenvalues."
   ]
  },
  {
   "cell_type": "markdown",
   "metadata": {
    "deletable": true,
    "editable": true
   },
   "source": [
    "Let's try this out in two dimensions and let's start with the unit sphere:"
   ]
  },
  {
   "cell_type": "code",
   "execution_count": 3,
   "metadata": {
    "collapsed": true,
    "deletable": true,
    "editable": true
   },
   "outputs": [],
   "source": [
    "_, z_unit_circle, x1_unit_circle, x2_unit_circle, _ = mvn_basics.generate_2d_ellipse_image(np.diag((1,1)))"
   ]
  },
  {
   "cell_type": "code",
   "execution_count": 4,
   "metadata": {
    "collapsed": false,
    "deletable": true,
    "editable": true
   },
   "outputs": [
    {
     "data": {
      "image/png": "[encoded data removed]",
      "text/plain": [
       "<matplotlib.figure.Figure at 0x7fbc681df208>"
      ]
     },
     "metadata": {},
     "output_type": "display_data"
    }
   ],
   "source": [
    "fig=plt.figure(figsize=(8, 8), dpi= 80, facecolor='w', edgecolor='k')\n",
    "ax = plt.subplot(111)\n",
    "mvn_basics.paint_2d_ellipse_contour(z_unit_circle, x1_unit_circle, x2_unit_circle, ax=ax)"
   ]
  },
  {
   "cell_type": "markdown",
   "metadata": {
    "deletable": true,
    "editable": true
   },
   "source": [
    "If we then scale this in the 45° direction between the x1 and x2 axis by a factor of 2:"
   ]
  },
  {
   "cell_type": "code",
   "execution_count": 5,
   "metadata": {
    "collapsed": false,
    "deletable": true,
    "editable": true
   },
   "outputs": [
    {
     "data": {
      "text/plain": [
       "array([[ 0.70710678, -0.70710678],\n",
       "       [ 0.70710678,  0.70710678]])"
      ]
     },
     "execution_count": 5,
     "metadata": {},
     "output_type": "execute_result"
    }
   ],
   "source": [
    "E_45d_ellipse=np.array([[1.0, -1.0], [1.0,  1.0]])\n",
    "Enormalize_45d_ellipse = 1.0/np.linalg.norm(E_45d_ellipse,axis=0).reshape(1,-1)\n",
    "E_45d_ellipse=E_45d_ellipse*Enormalize_45d_ellipse\n",
    "E_45d_ellipse"
   ]
  },
  {
   "cell_type": "code",
   "execution_count": 6,
   "metadata": {
    "collapsed": false,
    "deletable": true,
    "editable": true,
    "scrolled": true
   },
   "outputs": [
    {
     "data": {
      "text/plain": [
       "array([[ 2.,  0.],\n",
       "       [ 0.,  1.]])"
      ]
     },
     "execution_count": 6,
     "metadata": {},
     "output_type": "execute_result"
    }
   ],
   "source": [
    "sqrtGamma_diag_45d_ellipse = np.array([2.0,1.0])\n",
    "sqrtGamma_45d_ellipse = np.diag(sqrtGamma_diag_45d_ellipse)\n",
    "sqrtGamma_45d_ellipse"
   ]
  },
  {
   "cell_type": "code",
   "execution_count": 7,
   "metadata": {
    "collapsed": false,
    "deletable": true,
    "editable": true,
    "scrolled": true
   },
   "outputs": [
    {
     "data": {
      "text/plain": [
       "array([[ 1.41421356, -0.70710678],\n",
       "       [ 1.41421356,  0.70710678]])"
      ]
     },
     "execution_count": 7,
     "metadata": {},
     "output_type": "execute_result"
    }
   ],
   "source": [
    "A_45d_ellipse=np.dot(E_45d_ellipse, sqrtGamma_45d_ellipse)\n",
    "A_45d_ellipse"
   ]
  },
  {
   "cell_type": "markdown",
   "metadata": {
    "deletable": true,
    "editable": true
   },
   "source": [
    "Now we have in the notation of [Understanding Statistical Methods through Elliptical Geometry](http://citeseerx.ist.psu.edu/viewdoc/summary?doi=10.1.1.259.3710&rank=1):\n",
    "$$T = (A\\cdot A^T)^{-1}$$"
   ]
  },
  {
   "cell_type": "code",
   "execution_count": 8,
   "metadata": {
    "collapsed": false,
    "deletable": true,
    "editable": true
   },
   "outputs": [
    {
     "data": {
      "text/plain": [
       "array([[ 0.625, -0.375],\n",
       "       [-0.375,  0.625]])"
      ]
     },
     "execution_count": 8,
     "metadata": {},
     "output_type": "execute_result"
    }
   ],
   "source": [
    "T_45d_ellipse=np.linalg.inv(np.dot(A_45d_ellipse, A_45d_ellipse.T))\n",
    "T_45d_ellipse"
   ]
  },
  {
   "cell_type": "markdown",
   "metadata": {
    "deletable": true,
    "editable": true
   },
   "source": [
    "As we work with a eigenvector factorization we could have achieved the same result via the fact that $\\pmb{T}$ and $\\pmb{\\Sigma}$ have the same eigenvectors but inverse eigenvalues:"
   ]
  },
  {
   "cell_type": "code",
   "execution_count": 9,
   "metadata": {
    "collapsed": false,
    "deletable": true,
    "editable": true
   },
   "outputs": [
    {
     "data": {
      "text/plain": [
       "array([[ 0.625, -0.375],\n",
       "       [-0.375,  0.625]])"
      ]
     },
     "execution_count": 9,
     "metadata": {},
     "output_type": "execute_result"
    }
   ],
   "source": [
    "# T = E \\Gamma^{-1} E^T\n",
    "np.dot(E_45d_ellipse, np.dot(np.diag(1/(sqrtGamma_diag_45d_ellipse**2)),E_45d_ellipse.T))"
   ]
  },
  {
   "cell_type": "code",
   "execution_count": 10,
   "metadata": {
    "collapsed": false,
    "deletable": true,
    "editable": true
   },
   "outputs": [
    {
     "data": {
      "text/plain": [
       "array([[ 2.5,  1.5],\n",
       "       [ 1.5,  2.5]])"
      ]
     },
     "execution_count": 10,
     "metadata": {},
     "output_type": "execute_result"
    }
   ],
   "source": [
    "S_45d_ellipse = np.linalg.inv(T_45d_ellipse)\n",
    "S_45d_ellipse"
   ]
  },
  {
   "cell_type": "code",
   "execution_count": 11,
   "metadata": {
    "collapsed": false,
    "deletable": true,
    "editable": true
   },
   "outputs": [],
   "source": [
    "_, z_45d_ellipse, x1_45d_ellipse, x2_45d_ellipse, _ = mvn_basics.generate_2d_ellipse_image(T_45d_ellipse)"
   ]
  },
  {
   "cell_type": "code",
   "execution_count": 12,
   "metadata": {
    "collapsed": false,
    "deletable": true,
    "editable": true
   },
   "outputs": [
    {
     "data": {
      "image/png": "[encoded data removed]",
      "text/plain": [
       "<matplotlib.figure.Figure at 0x7fbc1b0bf390>"
      ]
     },
     "metadata": {},
     "output_type": "display_data"
    }
   ],
   "source": [
    "fig=plt.figure(figsize=(8, 8), dpi= 80, facecolor='w', edgecolor='k')\n",
    "ax = plt.subplot(111)\n",
    "ax.set_aspect('equal', 'datalim')\n",
    "mvn_basics.paint_2d_ellipse_contour(z_45d_ellipse, x1_45d_ellipse, x2_45d_ellipse, ax=ax)"
   ]
  },
  {
   "cell_type": "code",
   "execution_count": 13,
   "metadata": {
    "collapsed": false,
    "deletable": true,
    "editable": true
   },
   "outputs": [
    {
     "data": {
      "image/png": "[encoded data removed]",
      "text/plain": [
       "<matplotlib.figure.Figure at 0x7fbc1b0024e0>"
      ]
     },
     "metadata": {},
     "output_type": "display_data"
    }
   ],
   "source": [
    "fig=plt.figure(figsize=(8, 8), dpi= 80, facecolor='w', edgecolor='k')\n",
    "ax = plt.subplot(111)\n",
    "ax.set_aspect('equal', 'datalim')\n",
    "mvn_basics.paint_2d_ellipse_contour(z_45d_ellipse, x1_45d_ellipse, x2_45d_ellipse, ax=ax)\n",
    "\n",
    "_, circle, _, _, _ = mvn_basics.generate_2d_ellipse_image(np.diag((1,1)), x1=x1_45d_ellipse, x2=x2_45d_ellipse)\n",
    "mvn_basics.paint_2d_ellipse_contour(circle, x1_45d_ellipse, x2_45d_ellipse, ax=ax)\n",
    "\n",
    "# ax.axhline(y=np.sqrt(2.5), color='b', lw=0.5)\n",
    "ax.axhline(y=1/np.sqrt(T_45d_ellipse[1,1]), color='b', lw=0.5)\n",
    "ax.axvline(x=1/np.sqrt(T_45d_ellipse[0,0]), color='b', lw=0.5);"
   ]
  },
  {
   "cell_type": "markdown",
   "metadata": {
    "deletable": true,
    "editable": true
   },
   "source": [
    "Let's try this with another angle. The idea is that we use a direction, e.g. $x=1$ and $y=2$ and create an orthonormal basis with this dirction plus one more vector. This can be done with the QR decomposition, which leaves the direction of the first vector unchanged but makes sure that the second vector is orthogonal. In addition Q is orthonormal, e.g. $QQ^T=I$."
   ]
  },
  {
   "cell_type": "code",
   "execution_count": 14,
   "metadata": {
    "collapsed": false,
    "deletable": true,
    "editable": true
   },
   "outputs": [
    {
     "data": {
      "text/plain": [
       "array([[1, 1],\n",
       "       [2, 0]])"
      ]
     },
     "execution_count": 14,
     "metadata": {},
     "output_type": "execute_result"
    }
   ],
   "source": [
    "svector = np.array([1, 2]).reshape(-1,1)\n",
    "dummy = np.array([1, 0]).reshape(-1,1)\n",
    "E_63d_ellipse = np.hstack([svector, dummy])\n",
    "E_63d_ellipse"
   ]
  },
  {
   "cell_type": "code",
   "execution_count": 15,
   "metadata": {
    "collapsed": false,
    "deletable": true,
    "editable": true
   },
   "outputs": [
    {
     "data": {
      "text/plain": [
       "array([[-0.4472136 , -0.89442719],\n",
       "       [-0.89442719,  0.4472136 ]])"
      ]
     },
     "execution_count": 15,
     "metadata": {},
     "output_type": "execute_result"
    }
   ],
   "source": [
    "Q_63d_ellipse, _ = scipy.linalg.qr(E_63d_ellipse)\n",
    "Q_63d_ellipse"
   ]
  },
  {
   "cell_type": "code",
   "execution_count": 16,
   "metadata": {
    "collapsed": false,
    "deletable": true,
    "editable": true
   },
   "outputs": [],
   "source": [
    "sqrtGamma_diag_63d_ellipse = np.array([5.0,1.0])\n",
    "sqrtGamma_63d_ellipse = np.diag(sqrtGamma_diag_63d_ellipse)\n",
    "A_63d_ellipse = np.dot(Q_63d_ellipse, sqrtGamma_63d_ellipse)\n",
    "T_63d_ellipse = np.linalg.inv(np.dot(A_63d_ellipse, A_63d_ellipse.T))\n",
    "_, z_63d_ellipse, x1_63d_ellipse, x2_63d_ellipse, _ = mvn_basics.generate_2d_ellipse_image(T_63d_ellipse)"
   ]
  },
  {
   "cell_type": "code",
   "execution_count": 17,
   "metadata": {
    "collapsed": false,
    "deletable": true,
    "editable": true
   },
   "outputs": [
    {
     "data": {
      "text/plain": [
       "array([[-2.23606798, -0.89442719],\n",
       "       [-4.47213595,  0.4472136 ]])"
      ]
     },
     "execution_count": 17,
     "metadata": {},
     "output_type": "execute_result"
    }
   ],
   "source": [
    "A_63d_ellipse"
   ]
  },
  {
   "cell_type": "code",
   "execution_count": 18,
   "metadata": {
    "collapsed": false,
    "deletable": true,
    "editable": true
   },
   "outputs": [
    {
     "data": {
      "text/plain": [
       "array([[ 0.808, -0.384],\n",
       "       [-0.384,  0.232]])"
      ]
     },
     "execution_count": 18,
     "metadata": {},
     "output_type": "execute_result"
    }
   ],
   "source": [
    "T_63d_ellipse"
   ]
  },
  {
   "cell_type": "code",
   "execution_count": 19,
   "metadata": {
    "collapsed": false,
    "deletable": true,
    "editable": true
   },
   "outputs": [
    {
     "data": {
      "text/plain": [
       "array([[  5.8,   9.6],\n",
       "       [  9.6,  20.2]])"
      ]
     },
     "execution_count": 19,
     "metadata": {},
     "output_type": "execute_result"
    }
   ],
   "source": [
    "S_63d_ellipse = np.linalg.inv(T_63d_ellipse)\n",
    "S_63d_ellipse"
   ]
  },
  {
   "cell_type": "code",
   "execution_count": 20,
   "metadata": {
    "collapsed": false,
    "deletable": true,
    "editable": true
   },
   "outputs": [
    {
     "data": {
      "image/png": "[encoded data removed]",
      "text/plain": [
       "<matplotlib.figure.Figure at 0x7fbc1afeea90>"
      ]
     },
     "metadata": {},
     "output_type": "display_data"
    }
   ],
   "source": [
    "fig=plt.figure(figsize=(8, 8), dpi= 80, facecolor='w', edgecolor='k')\n",
    "ax = plt.subplot(111)\n",
    "ax.set_aspect('equal', 'datalim')\n",
    "mvn_basics.paint_2d_ellipse_contour(z_63d_ellipse, x1_63d_ellipse, x2_63d_ellipse, ax=ax)\n",
    "\n",
    "#ax.arrow(0, 0, A[0,0], A[1,0], head_width=0.05, head_length=0.1, fc='k', ec='k')\n",
    "ax.annotate('', xy=(-A_63d_ellipse[0,0],-A_63d_ellipse[1,0]), \n",
    "            xytext=(0,0), arrowprops=dict(facecolor='k', arrowstyle='->'))\n",
    "\n",
    "_, circle, _, _, _ = mvn_basics.generate_2d_ellipse_image(np.diag((1,1)), x1=x1_63d_ellipse, x2=x2_63d_ellipse)\n",
    "mvn_basics.paint_2d_ellipse_contour(circle, x1_63d_ellipse, x2_63d_ellipse, ax=ax)\n",
    "\n",
    "# ax.axhline(y=np.sqrt(2.5), color='b', lw=0.5)\n",
    "ax.axhline(y=1/np.sqrt(T_63d_ellipse[1,1]), color='b', lw=0.5)\n",
    "ax.axvline(x=1/np.sqrt(T_63d_ellipse[0,0]), color='b', lw=0.5);"
   ]
  },
  {
   "cell_type": "markdown",
   "metadata": {
    "deletable": true,
    "editable": true
   },
   "source": [
    "We call `L_diag_63d_ellipse` the linear transformation for transforming from the original ellipse to the standardized [z-score](https://en.wikipedia.org/wiki/Standard_score) ellipse, which is actually the correlation ellipse. Have a look at the equation on page 6 at the top at [Understanding Statistical Methods through Elliptical Geometry](http://citeseerx.ist.psu.edu/viewdoc/summary?doi=10.1.1.259.3710&rank=1), which explains how an ellipse under linear transformation behaves."
   ]
  },
  {
   "cell_type": "code",
   "execution_count": 21,
   "metadata": {
    "collapsed": false,
    "deletable": true,
    "editable": true
   },
   "outputs": [
    {
     "data": {
      "text/plain": [
       "array([[ 0.4152274 ,  0.        ],\n",
       "       [ 0.        ,  0.22249708]])"
      ]
     },
     "execution_count": 21,
     "metadata": {},
     "output_type": "execute_result"
    }
   ],
   "source": [
    "L_diag_63d_ellipse = 1/np.sqrt(np.array([S_63d_ellipse[0,0], S_63d_ellipse[1,1]]))\n",
    "L_63d_ellipse = np.diag(L_diag_63d_ellipse)\n",
    "L_63d_ellipse"
   ]
  },
  {
   "cell_type": "code",
   "execution_count": 22,
   "metadata": {
    "collapsed": false,
    "deletable": true,
    "editable": true
   },
   "outputs": [
    {
     "data": {
      "text/plain": [
       "array([[ 1.        ,  0.88691408],\n",
       "       [ 0.88691408,  1.        ]])"
      ]
     },
     "execution_count": 22,
     "metadata": {},
     "output_type": "execute_result"
    }
   ],
   "source": [
    "AS_63d_ellipse = np.dot(L_63d_ellipse, A_63d_ellipse)\n",
    "SS_63d_ellipse = np.dot(AS_63d_ellipse, AS_63d_ellipse.T)\n",
    "TS_63d_ellipse = np.linalg.inv(SS_63d_ellipse)\n",
    "SS_63d_ellipse"
   ]
  },
  {
   "cell_type": "code",
   "execution_count": 23,
   "metadata": {
    "collapsed": true,
    "deletable": true,
    "editable": true
   },
   "outputs": [],
   "source": [
    "_, zs_63d_ellipse, _, _, _ = \\\n",
    "    mvn_basics.generate_2d_ellipse_image(TS_63d_ellipse, x1=x1_63d_ellipse, x2=x2_63d_ellipse)"
   ]
  },
  {
   "cell_type": "code",
   "execution_count": 24,
   "metadata": {
    "collapsed": false,
    "deletable": true,
    "editable": true
   },
   "outputs": [
    {
     "data": {
      "image/png": "[encoded data removed]",
      "text/plain": [
       "<matplotlib.figure.Figure at 0x7fbc1af58d30>"
      ]
     },
     "metadata": {},
     "output_type": "display_data"
    }
   ],
   "source": [
    "fig=plt.figure(figsize=(8, 8), dpi= 80, facecolor='w', edgecolor='k')\n",
    "ax = plt.subplot(111)\n",
    "ax.set_aspect('equal', 'datalim')\n",
    "mvn_basics.paint_2d_ellipse_contour(z_63d_ellipse, x1_63d_ellipse, x2_63d_ellipse, ax=ax)\n",
    "\n",
    "#ax.arrow(0, 0, A[0,0], A[1,0], head_width=0.05, head_length=0.1, fc='k', ec='k')\n",
    "ax.annotate('', xy=(-A_63d_ellipse[0,0],-A_63d_ellipse[1,0]), \n",
    "            xytext=(0,0), arrowprops=dict(facecolor='k', arrowstyle='->'))\n",
    "\n",
    "_, circle, _, _, _ = mvn_basics.generate_2d_ellipse_image(np.diag((1,1)), x1=x1_63d_ellipse, x2=x2_63d_ellipse)\n",
    "mvn_basics.paint_2d_ellipse_contour(circle, x1_63d_ellipse, x2_63d_ellipse, ax=ax)\n",
    "\n",
    "mvn_basics.paint_2d_ellipse_contour(zs_63d_ellipse, x1_63d_ellipse, x2_63d_ellipse, ax=ax)\n",
    "\n",
    "# ax.axhline(y=np.sqrt(2.5), color='b', lw=0.5)\n",
    "ax.axhline(y=1/np.sqrt(T_63d_ellipse[1,1]), color='b', lw=0.5)\n",
    "ax.axvline(x=1/np.sqrt(T_63d_ellipse[0,0]), color='b', lw=0.5);"
   ]
  },
  {
   "cell_type": "markdown",
   "metadata": {
    "deletable": true,
    "editable": true
   },
   "source": [
    "At first, by looking at the graph above, I thought that this transformation to the correlation / z-score ellipse may perhaps keep the aspect ratio of the ellipse half axis, which is given as the square root of the ratio of the eigenvalues of the correlation matrix."
   ]
  },
  {
   "cell_type": "markdown",
   "metadata": {
    "deletable": true,
    "editable": true
   },
   "source": [
    "## Relationship between the raw and the z-score / correlation ellipses"
   ]
  },
  {
   "cell_type": "markdown",
   "metadata": {
    "deletable": true,
    "editable": true
   },
   "source": [
    "To check this we get the half-axis of the big ellipse and the half-axis of the scaled correlation / z-score ellipse and find out whether the aspect ratios are equal. We do that symbolically via [sympy](http://www.sympy.org/en/index.html)."
   ]
  },
  {
   "cell_type": "code",
   "execution_count": 25,
   "metadata": {
    "collapsed": true,
    "deletable": true,
    "editable": true
   },
   "outputs": [],
   "source": [
    "# http://docs.sympy.org/latest/modules/matrices/matrices.html\n",
    "import sympy\n",
    "sympy.init_printing()"
   ]
  },
  {
   "cell_type": "markdown",
   "metadata": {
    "deletable": true,
    "editable": true
   },
   "source": [
    "The first thing is to parametrize the big ellipse via an orthogonal set of eigenvalues. In 2 dimensions you only have one free parameter, which is the angle between the x-axis and the first eigen vector. We call that $\\varphi$:"
   ]
  },
  {
   "cell_type": "code",
   "execution_count": 26,
   "metadata": {
    "collapsed": false,
    "deletable": true,
    "editable": true
   },
   "outputs": [
    {
     "data": {
      "text/latex": [
       "$$\\left ( \\left[\\begin{matrix}\\cos{\\left (\\varphi \\right )} & - \\sin{\\left (\\varphi \\right )}\\\\\\sin{\\left (\\varphi \\right )} & \\cos{\\left (\\varphi \\right )}\\end{matrix}\\right], \\quad \\left[\\begin{matrix}\\cos{\\left (\\varphi \\right )}\\\\\\sin{\\left (\\varphi \\right )}\\end{matrix}\\right], \\quad \\left[\\begin{matrix}- \\sin{\\left (\\varphi \\right )}\\\\\\cos{\\left (\\varphi \\right )}\\end{matrix}\\right]\\right )$$"
      ],
      "text/plain": [
       "⎛⎡cos(\\varphi)  -sin(\\varphi)⎤  ⎡cos(\\varphi)⎤  ⎡-sin(\\varphi)⎤⎞\n",
       "⎜⎢                           ⎥, ⎢            ⎥, ⎢             ⎥⎟\n",
       "⎝⎣sin(\\varphi)  cos(\\varphi) ⎦  ⎣sin(\\varphi)⎦  ⎣cos(\\varphi) ⎦⎠"
      ]
     },
     "execution_count": 26,
     "metadata": {},
     "output_type": "execute_result"
    }
   ],
   "source": [
    "# se11, se12, se21, se22 = sympy.symbols('e_{11},e_{12},e_{21},e_{22}')\n",
    "sephi = sympy.symbols(r'\\varphi')\n",
    "se11 = sympy.cos(sephi)\n",
    "se21 = sympy.sin(sephi)\n",
    "se12 = -sympy.sin(sephi)\n",
    "se22 = sympy.cos(sephi)\n",
    "\n",
    "se1 = sympy.Matrix([se11, se21])\n",
    "se2 = sympy.Matrix([se12, se22])\n",
    "sE = sympy.Matrix(se1)\n",
    "# sE.col_insert(0, se1)\n",
    "sE = sE.col_insert(1, se2)\n",
    "sE, se1, se2"
   ]
  },
  {
   "cell_type": "markdown",
   "metadata": {
    "deletable": true,
    "editable": true
   },
   "source": [
    "Next we define the scaling along these axis as $\\gamma_1$ and $\\gamma_2$:"
   ]
  },
  {
   "cell_type": "code",
   "execution_count": 27,
   "metadata": {
    "collapsed": false,
    "deletable": true,
    "editable": true
   },
   "outputs": [
    {
     "data": {
      "text/latex": [
       "$$\\left[\\begin{matrix}\\gamma_1 & 0\\\\0 & \\gamma_2\\end{matrix}\\right]$$"
      ],
      "text/plain": [
       "⎡\\gamma₁     0   ⎤\n",
       "⎢                ⎥\n",
       "⎣   0     \\gamma₂⎦"
      ]
     },
     "execution_count": 27,
     "metadata": {},
     "output_type": "execute_result"
    }
   ],
   "source": [
    "sgamma1, sgamma2 = sympy.symbols('\\gamma_1,\\gamma_2')\n",
    "sGamma = sympy.diag(sgamma1, sgamma2)\n",
    "sGamma"
   ]
  },
  {
   "cell_type": "markdown",
   "metadata": {
    "deletable": true,
    "editable": true
   },
   "source": [
    "And from that we can calculate the $\\pmb{A}$ matrix and the $\\pmb{\\Sigma}$ matrix:"
   ]
  },
  {
   "cell_type": "code",
   "execution_count": 28,
   "metadata": {
    "collapsed": false,
    "deletable": true,
    "editable": true
   },
   "outputs": [
    {
     "data": {
      "text/latex": [
       "$$\\left[\\begin{matrix}\\gamma_1 \\cos{\\left (\\varphi \\right )} & - \\gamma_2 \\sin{\\left (\\varphi \\right )}\\\\\\gamma_1 \\sin{\\left (\\varphi \\right )} & \\gamma_2 \\cos{\\left (\\varphi \\right )}\\end{matrix}\\right]$$"
      ],
      "text/plain": [
       "⎡\\gamma₁⋅cos(\\varphi)  -\\gamma₂⋅sin(\\varphi)⎤\n",
       "⎢                                           ⎥\n",
       "⎣\\gamma₁⋅sin(\\varphi)  \\gamma₂⋅cos(\\varphi) ⎦"
      ]
     },
     "execution_count": 28,
     "metadata": {},
     "output_type": "execute_result"
    }
   ],
   "source": [
    "sA = sE * sGamma\n",
    "sA"
   ]
  },
  {
   "cell_type": "code",
   "execution_count": 29,
   "metadata": {
    "collapsed": false,
    "deletable": true,
    "editable": true
   },
   "outputs": [
    {
     "data": {
      "text/latex": [
       "$$\\left[\\begin{matrix}\\gamma_1^{2} \\cos^{2}{\\left (\\varphi \\right )} + \\gamma_2^{2} \\sin^{2}{\\left (\\varphi \\right )} & \\gamma_1^{2} \\sin{\\left (\\varphi \\right )} \\cos{\\left (\\varphi \\right )} - \\gamma_2^{2} \\sin{\\left (\\varphi \\right )} \\cos{\\left (\\varphi \\right )}\\\\\\gamma_1^{2} \\sin{\\left (\\varphi \\right )} \\cos{\\left (\\varphi \\right )} - \\gamma_2^{2} \\sin{\\left (\\varphi \\right )} \\cos{\\left (\\varphi \\right )} & \\gamma_1^{2} \\sin^{2}{\\left (\\varphi \\right )} + \\gamma_2^{2} \\cos^{2}{\\left (\\varphi \\right )}\\end{matrix}\\right]$$"
      ],
      "text/plain": [
       "⎡                   2    2                   2    2                           \n",
       "⎢            \\gamma₁ ⋅cos (\\varphi) + \\gamma₂ ⋅sin (\\varphi)              \\gam\n",
       "⎢                                                                             \n",
       "⎢       2                                    2                                \n",
       "⎣\\gamma₁ ⋅sin(\\varphi)⋅cos(\\varphi) - \\gamma₂ ⋅sin(\\varphi)⋅cos(\\varphi)      \n",
       "\n",
       "   2                                    2                          ⎤\n",
       "ma₁ ⋅sin(\\varphi)⋅cos(\\varphi) - \\gamma₂ ⋅sin(\\varphi)⋅cos(\\varphi)⎥\n",
       "                                                                   ⎥\n",
       "               2    2                   2    2                     ⎥\n",
       "        \\gamma₁ ⋅sin (\\varphi) + \\gamma₂ ⋅cos (\\varphi)            ⎦"
      ]
     },
     "execution_count": 29,
     "metadata": {},
     "output_type": "execute_result"
    }
   ],
   "source": [
    "sSigma = sA * sA.T\n",
    "sSigma"
   ]
  },
  {
   "cell_type": "markdown",
   "metadata": {
    "deletable": true,
    "editable": true
   },
   "source": [
    "The $\\pmb{T}$ matrix is simply the inverse of the $\\pmb{\\Sigma}$ matrix:"
   ]
  },
  {
   "cell_type": "code",
   "execution_count": 30,
   "metadata": {
    "collapsed": false,
    "deletable": true,
    "editable": true
   },
   "outputs": [
    {
     "data": {
      "text/latex": [
       "$$\\left[\\begin{matrix}\\frac{\\left(\\gamma_1^{2} \\sin^{2}{\\left (\\varphi \\right )} + \\gamma_2^{2} \\cos^{2}{\\left (\\varphi \\right )}\\right) \\left(\\gamma_1^{2} \\cos^{2}{\\left (\\varphi \\right )} + \\gamma_2^{2} \\sin^{2}{\\left (\\varphi \\right )}\\right) - \\left(- \\gamma_1^{2} \\sin{\\left (\\varphi \\right )} \\cos{\\left (\\varphi \\right )} + \\gamma_2^{2} \\sin{\\left (\\varphi \\right )} \\cos{\\left (\\varphi \\right )}\\right) \\left(\\gamma_1^{2} \\sin{\\left (\\varphi \\right )} \\cos{\\left (\\varphi \\right )} - \\gamma_2^{2} \\sin{\\left (\\varphi \\right )} \\cos{\\left (\\varphi \\right )}\\right) - \\left(\\gamma_1^{2} \\sin{\\left (\\varphi \\right )} \\cos{\\left (\\varphi \\right )} - \\gamma_2^{2} \\sin{\\left (\\varphi \\right )} \\cos{\\left (\\varphi \\right )}\\right)^{2}}{\\left(\\gamma_1^{2} \\cos^{2}{\\left (\\varphi \\right )} + \\gamma_2^{2} \\sin^{2}{\\left (\\varphi \\right )}\\right) \\left(\\left(\\gamma_1^{2} \\sin^{2}{\\left (\\varphi \\right )} + \\gamma_2^{2} \\cos^{2}{\\left (\\varphi \\right )}\\right) \\left(\\gamma_1^{2} \\cos^{2}{\\left (\\varphi \\right )} + \\gamma_2^{2} \\sin^{2}{\\left (\\varphi \\right )}\\right) - \\left(\\gamma_1^{2} \\sin{\\left (\\varphi \\right )} \\cos{\\left (\\varphi \\right )} - \\gamma_2^{2} \\sin{\\left (\\varphi \\right )} \\cos{\\left (\\varphi \\right )}\\right)^{2}\\right)} & - \\frac{\\gamma_1^{2} \\sin{\\left (\\varphi \\right )} \\cos{\\left (\\varphi \\right )} - \\gamma_2^{2} \\sin{\\left (\\varphi \\right )} \\cos{\\left (\\varphi \\right )}}{\\left(\\gamma_1^{2} \\sin^{2}{\\left (\\varphi \\right )} + \\gamma_2^{2} \\cos^{2}{\\left (\\varphi \\right )}\\right) \\left(\\gamma_1^{2} \\cos^{2}{\\left (\\varphi \\right )} + \\gamma_2^{2} \\sin^{2}{\\left (\\varphi \\right )}\\right) - \\left(\\gamma_1^{2} \\sin{\\left (\\varphi \\right )} \\cos{\\left (\\varphi \\right )} - \\gamma_2^{2} \\sin{\\left (\\varphi \\right )} \\cos{\\left (\\varphi \\right )}\\right)^{2}}\\\\\\frac{- \\gamma_1^{2} \\sin{\\left (\\varphi \\right )} \\cos{\\left (\\varphi \\right )} + \\gamma_2^{2} \\sin{\\left (\\varphi \\right )} \\cos{\\left (\\varphi \\right )}}{\\left(\\gamma_1^{2} \\sin^{2}{\\left (\\varphi \\right )} + \\gamma_2^{2} \\cos^{2}{\\left (\\varphi \\right )}\\right) \\left(\\gamma_1^{2} \\cos^{2}{\\left (\\varphi \\right )} + \\gamma_2^{2} \\sin^{2}{\\left (\\varphi \\right )}\\right) - \\left(\\gamma_1^{2} \\sin{\\left (\\varphi \\right )} \\cos{\\left (\\varphi \\right )} - \\gamma_2^{2} \\sin{\\left (\\varphi \\right )} \\cos{\\left (\\varphi \\right )}\\right)^{2}} & \\frac{\\gamma_1^{2} \\cos^{2}{\\left (\\varphi \\right )} + \\gamma_2^{2} \\sin^{2}{\\left (\\varphi \\right )}}{\\left(\\gamma_1^{2} \\sin^{2}{\\left (\\varphi \\right )} + \\gamma_2^{2} \\cos^{2}{\\left (\\varphi \\right )}\\right) \\left(\\gamma_1^{2} \\cos^{2}{\\left (\\varphi \\right )} + \\gamma_2^{2} \\sin^{2}{\\left (\\varphi \\right )}\\right) - \\left(\\gamma_1^{2} \\sin{\\left (\\varphi \\right )} \\cos{\\left (\\varphi \\right )} - \\gamma_2^{2} \\sin{\\left (\\varphi \\right )} \\cos{\\left (\\varphi \\right )}\\right)^{2}}\\end{matrix}\\right]$$"
      ],
      "text/plain": [
       "⎡                                                                             \n",
       "⎢⎛       2    2                   2    2         ⎞ ⎛       2    2             \n",
       "⎢⎝\\gamma₁ ⋅sin (\\varphi) + \\gamma₂ ⋅cos (\\varphi)⎠⋅⎝\\gamma₁ ⋅cos (\\varphi) + \\\n",
       "⎢─────────────────────────────────────────────────────────────────────────────\n",
       "⎢                                                                             \n",
       "⎢                                                  ⎛       2    2             \n",
       "⎢                                                  ⎝\\gamma₁ ⋅cos (\\varphi) + \\\n",
       "⎢                                                                             \n",
       "⎢                                                                             \n",
       "⎢                                                                             \n",
       "⎢                                                                            ─\n",
       "⎢                                                                             \n",
       "⎢                                                                            ⎛\n",
       "⎣                                                                            ⎝\n",
       "\n",
       "                                                                              \n",
       "      2    2         ⎞   ⎛         2                                    2     \n",
       "gamma₂ ⋅sin (\\varphi)⎠ - ⎝- \\gamma₁ ⋅sin(\\varphi)⋅cos(\\varphi) + \\gamma₂ ⋅sin(\n",
       "──────────────────────────────────────────────────────────────────────────────\n",
       "                       ⎛                                                      \n",
       "      2    2         ⎞ ⎜⎛       2    2                   2    2         ⎞ ⎛   \n",
       "gamma₂ ⋅sin (\\varphi)⎠⋅⎝⎝\\gamma₁ ⋅sin (\\varphi) + \\gamma₂ ⋅cos (\\varphi)⎠⋅⎝\\ga\n",
       "                                                                              \n",
       "                                                           2                  \n",
       "                                                  - \\gamma₁ ⋅sin(\\varphi)⋅cos(\n",
       "──────────────────────────────────────────────────────────────────────────────\n",
       "                                                                              \n",
       "       2    2                   2    2         ⎞ ⎛       2    2               \n",
       "\\gamma₁ ⋅sin (\\varphi) + \\gamma₂ ⋅cos (\\varphi)⎠⋅⎝\\gamma₁ ⋅cos (\\varphi) + \\ga\n",
       "\n",
       "                                                                              \n",
       "                     ⎞ ⎛       2                                    2         \n",
       "\\varphi)⋅cos(\\varphi)⎠⋅⎝\\gamma₁ ⋅sin(\\varphi)⋅cos(\\varphi) - \\gamma₂ ⋅sin(\\var\n",
       "──────────────────────────────────────────────────────────────────────────────\n",
       "                                                                              \n",
       "    2    2                   2    2         ⎞   ⎛       2                     \n",
       "mma₁ ⋅cos (\\varphi) + \\gamma₂ ⋅sin (\\varphi)⎠ - ⎝\\gamma₁ ⋅sin(\\varphi)⋅cos(\\va\n",
       "                                                                              \n",
       "                  2                                                           \n",
       "\\varphi) + \\gamma₂ ⋅sin(\\varphi)⋅cos(\\varphi)                                 \n",
       "──────────────────────────────────────────────────────────────────────────────\n",
       "                                                                              \n",
       "    2    2         ⎞   ⎛       2                                    2         \n",
       "mma₂ ⋅sin (\\varphi)⎠ - ⎝\\gamma₁ ⋅sin(\\varphi)⋅cos(\\varphi) - \\gamma₂ ⋅sin(\\var\n",
       "\n",
       "                                                                              \n",
       "                 ⎞   ⎛       2                                    2           \n",
       "phi)⋅cos(\\varphi)⎠ - ⎝\\gamma₁ ⋅sin(\\varphi)⋅cos(\\varphi) - \\gamma₂ ⋅sin(\\varph\n",
       "──────────────────────────────────────────────────────────────────────────────\n",
       "                                           2⎞                                 \n",
       "               2                          ⎞ ⎟                                 \n",
       "rphi) - \\gamma₂ ⋅sin(\\varphi)⋅cos(\\varphi)⎠ ⎠                                 \n",
       "                                                                              \n",
       "                                                                              \n",
       "                                                                              \n",
       "───────────────────                                                           \n",
       "                  2                                                           \n",
       "                 ⎞                                                            \n",
       "phi)⋅cos(\\varphi)⎠                                                            \n",
       "\n",
       "                2                                                             \n",
       "               ⎞                                                      ⎛       \n",
       "i)⋅cos(\\varphi)⎠                                                     -⎝\\gamma₁\n",
       "─────────────────  ───────────────────────────────────────────────────────────\n",
       "                                                                              \n",
       "                   ⎛       2    2                   2    2         ⎞ ⎛       2\n",
       "                   ⎝\\gamma₁ ⋅sin (\\varphi) + \\gamma₂ ⋅cos (\\varphi)⎠⋅⎝\\gamma₁ \n",
       "                                                                              \n",
       "                                                                              \n",
       "                                                                              \n",
       "                   ───────────────────────────────────────────────────────────\n",
       "                                                                              \n",
       "                   ⎛       2    2                   2    2         ⎞ ⎛       2\n",
       "                   ⎝\\gamma₁ ⋅sin (\\varphi) + \\gamma₂ ⋅cos (\\varphi)⎠⋅⎝\\gamma₁ \n",
       "\n",
       "                                                                              \n",
       "2                                    2                          ⎞             \n",
       " ⋅sin(\\varphi)⋅cos(\\varphi) - \\gamma₂ ⋅sin(\\varphi)⋅cos(\\varphi)⎠             \n",
       "──────────────────────────────────────────────────────────────────────────────\n",
       "                                                                              \n",
       "    2                   2    2         ⎞   ⎛       2                          \n",
       "⋅cos (\\varphi) + \\gamma₂ ⋅sin (\\varphi)⎠ - ⎝\\gamma₁ ⋅sin(\\varphi)⋅cos(\\varphi)\n",
       "                                                                              \n",
       "            2    2                   2    2                                   \n",
       "     \\gamma₁ ⋅cos (\\varphi) + \\gamma₂ ⋅sin (\\varphi)                          \n",
       "──────────────────────────────────────────────────────────────────────────────\n",
       "                                                                              \n",
       "    2                   2    2         ⎞   ⎛       2                          \n",
       "⋅cos (\\varphi) + \\gamma₂ ⋅sin (\\varphi)⎠ - ⎝\\gamma₁ ⋅sin(\\varphi)⋅cos(\\varphi)\n",
       "\n",
       "                                       ⎤\n",
       "                                       ⎥\n",
       "                                       ⎥\n",
       "───────────────────────────────────────⎥\n",
       "                                      2⎥\n",
       "          2                          ⎞ ⎥\n",
       " - \\gamma₂ ⋅sin(\\varphi)⋅cos(\\varphi)⎠ ⎥\n",
       "                                       ⎥\n",
       "                                       ⎥\n",
       "                                       ⎥\n",
       "───────────────────────────────────────⎥\n",
       "                                      2⎥\n",
       "          2                          ⎞ ⎥\n",
       " - \\gamma₂ ⋅sin(\\varphi)⋅cos(\\varphi)⎠ ⎦"
      ]
     },
     "execution_count": 30,
     "metadata": {},
     "output_type": "execute_result"
    }
   ],
   "source": [
    "sT = sSigma ** -1\n",
    "sT"
   ]
  },
  {
   "cell_type": "markdown",
   "metadata": {
    "deletable": true,
    "editable": true
   },
   "source": [
    "In order to get the correlation / z-score matrix we have to scale each direction by the $\\sigma_i$ of the direction. The $\\pmb{\\Sigma}$ matrix contains the squares $\\sigma_i^2$ on the diagonal:"
   ]
  },
  {
   "cell_type": "code",
   "execution_count": 31,
   "metadata": {
    "collapsed": false,
    "deletable": true,
    "editable": true
   },
   "outputs": [
    {
     "data": {
      "text/latex": [
       "$$\\left[\\begin{matrix}\\left(\\gamma_1^{2} \\cos^{2}{\\left (\\varphi \\right )} + \\gamma_2^{2} \\sin^{2}{\\left (\\varphi \\right )}\\right)^{-0.5} & 0\\\\0 & \\left(\\gamma_1^{2} \\sin^{2}{\\left (\\varphi \\right )} + \\gamma_2^{2} \\cos^{2}{\\left (\\varphi \\right )}\\right)^{-0.5}\\end{matrix}\\right]$$"
      ],
      "text/plain": [
       "⎡                                                 -0.5                        \n",
       "⎢⎛       2    2                   2    2         ⎞                            \n",
       "⎢⎝\\gamma₁ ⋅cos (\\varphi) + \\gamma₂ ⋅sin (\\varphi)⎠                            \n",
       "⎢                                                                             \n",
       "⎢                                                                             \n",
       "⎢                                                       ⎛       2    2        \n",
       "⎣                          0                            ⎝\\gamma₁ ⋅sin (\\varphi\n",
       "\n",
       "                               ⎤\n",
       "                               ⎥\n",
       "    0                          ⎥\n",
       "                               ⎥\n",
       "                           -0.5⎥\n",
       "           2    2         ⎞    ⎥\n",
       ") + \\gamma₂ ⋅cos (\\varphi)⎠    ⎦"
      ]
     },
     "execution_count": 31,
     "metadata": {},
     "output_type": "execute_result"
    }
   ],
   "source": [
    "sScale = sympy.diag(sSigma[0,0] ** (-1/2), sSigma[1,1]** (-1/2))\n",
    "sScale"
   ]
  },
  {
   "cell_type": "markdown",
   "metadata": {
    "deletable": true,
    "editable": true
   },
   "source": [
    "We then create the correlation matrix by scaling our $\\pmb{A}$ matrix and generating from that the correlation matrix (the z-score $\\pmb{\\Sigma}$ matrix):"
   ]
  },
  {
   "cell_type": "code",
   "execution_count": 32,
   "metadata": {
    "collapsed": false,
    "deletable": true,
    "editable": true
   },
   "outputs": [
    {
     "data": {
      "text/latex": [
       "$$\\left[\\begin{matrix}1 & \\frac{1.0 \\left(\\gamma_1^{2} - \\gamma_2^{2}\\right) \\sin{\\left (2 \\varphi \\right )}}{\\left(- \\gamma_1^{2} \\cos{\\left (2 \\varphi \\right )} + \\gamma_1^{2} + \\gamma_2^{2} \\cos{\\left (2 \\varphi \\right )} + \\gamma_2^{2}\\right)^{0.5} \\left(\\gamma_1^{2} \\cos{\\left (2 \\varphi \\right )} + \\gamma_1^{2} - \\gamma_2^{2} \\cos{\\left (2 \\varphi \\right )} + \\gamma_2^{2}\\right)^{0.5}}\\\\\\frac{1.0 \\left(\\gamma_1^{2} - \\gamma_2^{2}\\right) \\sin{\\left (2 \\varphi \\right )}}{\\left(- \\gamma_1^{2} \\cos{\\left (2 \\varphi \\right )} + \\gamma_1^{2} + \\gamma_2^{2} \\cos{\\left (2 \\varphi \\right )} + \\gamma_2^{2}\\right)^{0.5} \\left(\\gamma_1^{2} \\cos{\\left (2 \\varphi \\right )} + \\gamma_1^{2} - \\gamma_2^{2} \\cos{\\left (2 \\varphi \\right )} + \\gamma_2^{2}\\right)^{0.5}} & 1\\end{matrix}\\right]$$"
      ],
      "text/plain": [
       "⎡                                                                             \n",
       "⎢                                                                             \n",
       "⎢                                                                             \n",
       "⎢                                                                             \n",
       "⎢                                                                             \n",
       "⎢    ⎛       2          2⎞ ⎛         2                         2          2   \n",
       "⎣1.0⋅⎝\\gamma₁  - \\gamma₂ ⎠⋅⎝- \\gamma₁ ⋅cos(2⋅\\varphi) + \\gamma₁  + \\gamma₂ ⋅co\n",
       "\n",
       "                                                                              \n",
       "                                                                              \n",
       "                     1                                                        \n",
       "                                                                              \n",
       "                        -0.5                                                  \n",
       "                      2⎞     ⎛       2                         2          2   \n",
       "s(2⋅\\varphi) + \\gamma₂ ⎠    ⋅⎝\\gamma₁ ⋅cos(2⋅\\varphi) + \\gamma₁  - \\gamma₂ ⋅co\n",
       "\n",
       "                                                                              \n",
       "                                                 ⎛       2          2⎞ ⎛      \n",
       "                                             1.0⋅⎝\\gamma₁  - \\gamma₂ ⎠⋅⎝- \\gam\n",
       "                                                                              \n",
       "                        -0.5                                                  \n",
       "                      2⎞                                                      \n",
       "s(2⋅\\varphi) + \\gamma₂ ⎠    ⋅sin(2⋅\\varphi)                                   \n",
       "\n",
       "                                                                    -0.5      \n",
       "   2                         2          2                         2⎞     ⎛    \n",
       "ma₁ ⋅cos(2⋅\\varphi) + \\gamma₁  + \\gamma₂ ⋅cos(2⋅\\varphi) + \\gamma₂ ⎠    ⋅⎝\\gam\n",
       "                                                                              \n",
       "                                                                              \n",
       "                                                                              \n",
       "                                                                 1            \n",
       "\n",
       "                                                                    -0.5      \n",
       "   2                         2          2                         2⎞          \n",
       "ma₁ ⋅cos(2⋅\\varphi) + \\gamma₁  - \\gamma₂ ⋅cos(2⋅\\varphi) + \\gamma₂ ⎠    ⋅sin(2\n",
       "                                                                              \n",
       "                                                                              \n",
       "                                                                              \n",
       "                                                                              \n",
       "\n",
       "         ⎤\n",
       "         ⎥\n",
       "⋅\\varphi)⎥\n",
       "         ⎥\n",
       "         ⎥\n",
       "         ⎥\n",
       "         ⎦"
      ]
     },
     "execution_count": 32,
     "metadata": {},
     "output_type": "execute_result"
    }
   ],
   "source": [
    "sAc = sScale * sA\n",
    "sCorr = sympy.simplify(sAc * sAc.T)\n",
    "sCorr"
   ]
  },
  {
   "cell_type": "markdown",
   "metadata": {
    "deletable": true,
    "editable": true
   },
   "source": [
    "From that we can now retrieve the eigenvalues:"
   ]
  },
  {
   "cell_type": "code",
   "execution_count": 33,
   "metadata": {
    "collapsed": false,
    "deletable": true,
    "editable": true
   },
   "outputs": [
    {
     "data": {
      "image/png": "[encoded data removed]",
      "text/latex": [
       "$$\\left [ - \\frac{\\sqrt{\\left(\\cos{\\left (4 \\varphi \\right )} - 1\\right) \\left(\\gamma_1^{4} \\cos{\\left (4 \\varphi \\right )} - \\gamma_1^{4} - 2 \\gamma_1^{2} \\gamma_2^{2} \\cos{\\left (4 \\varphi \\right )} - 6 \\gamma_1^{2} \\gamma_2^{2} + \\gamma_2^{4} \\cos{\\left (4 \\varphi \\right )} - \\gamma_2^{4}\\right)} \\left(\\gamma_1 - \\gamma_2\\right) \\left(\\gamma_1 + \\gamma_2\\right)}{\\gamma_1^{4} \\cos{\\left (4 \\varphi \\right )} - \\gamma_1^{4} - 2 \\gamma_1^{2} \\gamma_2^{2} \\cos{\\left (4 \\varphi \\right )} - 6 \\gamma_1^{2} \\gamma_2^{2} + \\gamma_2^{4} \\cos{\\left (4 \\varphi \\right )} - \\gamma_2^{4}} + 1, \\quad \\frac{\\sqrt{\\left(\\cos{\\left (4 \\varphi \\right )} - 1\\right) \\left(\\gamma_1^{4} \\cos{\\left (4 \\varphi \\right )} - \\gamma_1^{4} - 2 \\gamma_1^{2} \\gamma_2^{2} \\cos{\\left (4 \\varphi \\right )} - 6 \\gamma_1^{2} \\gamma_2^{2} + \\gamma_2^{4} \\cos{\\left (4 \\varphi \\right )} - \\gamma_2^{4}\\right)} \\left(\\gamma_1 - \\gamma_2\\right) \\left(\\gamma_1 + \\gamma_2\\right)}{\\gamma_1^{4} \\cos{\\left (4 \\varphi \\right )} - \\gamma_1^{4} - 2 \\gamma_1^{2} \\gamma_2^{2} \\cos{\\left (4 \\varphi \\right )} - 6 \\gamma_1^{2} \\gamma_2^{2} + \\gamma_2^{4} \\cos{\\left (4 \\varphi \\right )} - \\gamma_2^{4}} + 1\\right ]$$"
      ],
      "text/plain": [
       "⎡     ________________________________________________________________________\n",
       "⎢    ╱                      ⎛       4                         4            2  \n",
       "⎢  ╲╱  (cos(4⋅\\varphi) - 1)⋅⎝\\gamma₁ ⋅cos(4⋅\\varphi) - \\gamma₁  - 2⋅\\gamma₁ ⋅\\\n",
       "⎢- ───────────────────────────────────────────────────────────────────────────\n",
       "⎢                                           4                         4       \n",
       "⎣                                    \\gamma₁ ⋅cos(4⋅\\varphi) - \\gamma₁  - 2⋅\\g\n",
       "\n",
       "______________________________________________________________________________\n",
       "      2                           2        2          4                       \n",
       "gamma₂ ⋅cos(4⋅\\varphi) - 6⋅\\gamma₁ ⋅\\gamma₂  + \\gamma₂ ⋅cos(4⋅\\varphi) - \\gamm\n",
       "──────────────────────────────────────────────────────────────────────────────\n",
       "     2        2                           2        2          4               \n",
       "amma₁ ⋅\\gamma₂ ⋅cos(4⋅\\varphi) - 6⋅\\gamma₁ ⋅\\gamma₂  + \\gamma₂ ⋅cos(4⋅\\varphi)\n",
       "\n",
       "_____                                                 ________________________\n",
       "  4⎞                                                 ╱                      ⎛ \n",
       "a₂ ⎠ ⋅(\\gamma₁ - \\gamma₂)⋅(\\gamma₁ + \\gamma₂)      ╲╱  (cos(4⋅\\varphi) - 1)⋅⎝\\\n",
       "───────────────────────────────────────────── + 1, ───────────────────────────\n",
       "          4                                                                   \n",
       " - \\gamma₂                                                                    \n",
       "\n",
       "______________________________________________________________________________\n",
       "      4                         4            2        2                       \n",
       "gamma₁ ⋅cos(4⋅\\varphi) - \\gamma₁  - 2⋅\\gamma₁ ⋅\\gamma₂ ⋅cos(4⋅\\varphi) - 6⋅\\ga\n",
       "──────────────────────────────────────────────────────────────────────────────\n",
       "              4                         4            2        2               \n",
       "       \\gamma₁ ⋅cos(4⋅\\varphi) - \\gamma₁  - 2⋅\\gamma₁ ⋅\\gamma₂ ⋅cos(4⋅\\varphi)\n",
       "\n",
       "_____________________________________________________                         \n",
       "    2        2          4                         4⎞                          \n",
       "mma₁ ⋅\\gamma₂  + \\gamma₂ ⋅cos(4⋅\\varphi) - \\gamma₂ ⎠ ⋅(\\gamma₁ - \\gamma₂)⋅(\\ga\n",
       "──────────────────────────────────────────────────────────────────────────────\n",
       "            2        2          4                         4                   \n",
       " - 6⋅\\gamma₁ ⋅\\gamma₂  + \\gamma₂ ⋅cos(4⋅\\varphi) - \\gamma₂                    \n",
       "\n",
       "                   ⎤\n",
       "                   ⎥\n",
       "mma₁ + \\gamma₂)    ⎥\n",
       "─────────────── + 1⎥\n",
       "                   ⎥\n",
       "                   ⎦"
      ]
     },
     "execution_count": 33,
     "metadata": {},
     "output_type": "execute_result"
    }
   ],
   "source": [
    "list(sCorr.eigenvals())"
   ]
  },
  {
   "cell_type": "markdown",
   "metadata": {
    "deletable": true,
    "editable": true
   },
   "source": [
    "And generate the square root of the relation beween the eigenvalues:"
   ]
  },
  {
   "cell_type": "code",
   "execution_count": 34,
   "metadata": {
    "collapsed": false,
    "deletable": true,
    "editable": true
   },
   "outputs": [
    {
     "data": {
      "image/png": "[encoded data removed]",
      "text/latex": [
       "$$\\sqrt{\\frac{- \\frac{\\sqrt{\\left(\\cos{\\left (4 \\varphi \\right )} - 1\\right) \\left(\\gamma_1^{4} \\cos{\\left (4 \\varphi \\right )} - \\gamma_1^{4} - 2 \\gamma_1^{2} \\gamma_2^{2} \\cos{\\left (4 \\varphi \\right )} - 6 \\gamma_1^{2} \\gamma_2^{2} + \\gamma_2^{4} \\cos{\\left (4 \\varphi \\right )} - \\gamma_2^{4}\\right)} \\left(\\gamma_1 - \\gamma_2\\right) \\left(\\gamma_1 + \\gamma_2\\right)}{\\gamma_1^{4} \\cos{\\left (4 \\varphi \\right )} - \\gamma_1^{4} - 2 \\gamma_1^{2} \\gamma_2^{2} \\cos{\\left (4 \\varphi \\right )} - 6 \\gamma_1^{2} \\gamma_2^{2} + \\gamma_2^{4} \\cos{\\left (4 \\varphi \\right )} - \\gamma_2^{4}} + 1}{\\frac{\\sqrt{\\left(\\cos{\\left (4 \\varphi \\right )} - 1\\right) \\left(\\gamma_1^{4} \\cos{\\left (4 \\varphi \\right )} - \\gamma_1^{4} - 2 \\gamma_1^{2} \\gamma_2^{2} \\cos{\\left (4 \\varphi \\right )} - 6 \\gamma_1^{2} \\gamma_2^{2} + \\gamma_2^{4} \\cos{\\left (4 \\varphi \\right )} - \\gamma_2^{4}\\right)} \\left(\\gamma_1 - \\gamma_2\\right) \\left(\\gamma_1 + \\gamma_2\\right)}{\\gamma_1^{4} \\cos{\\left (4 \\varphi \\right )} - \\gamma_1^{4} - 2 \\gamma_1^{2} \\gamma_2^{2} \\cos{\\left (4 \\varphi \\right )} - 6 \\gamma_1^{2} \\gamma_2^{2} + \\gamma_2^{4} \\cos{\\left (4 \\varphi \\right )} - \\gamma_2^{4}} + 1}}$$"
      ],
      "text/plain": [
       "              ________________________________________________________________\n",
       "             ╱      __________________________________________________________\n",
       "            ╱      ╱                      ⎛       4                         4 \n",
       "           ╱     ╲╱  (cos(4⋅\\varphi) - 1)⋅⎝\\gamma₁ ⋅cos(4⋅\\varphi) - \\gamma₁  \n",
       "          ╱    - ─────────────────────────────────────────────────────────────\n",
       "         ╱                                                4                   \n",
       "        ╱                                          \\gamma₁ ⋅cos(4⋅\\varphi) - \\\n",
       "       ╱       ───────────────────────────────────────────────────────────────\n",
       "      ╱            ___________________________________________________________\n",
       "     ╱            ╱                      ⎛       4                         4  \n",
       "    ╱           ╲╱  (cos(4⋅\\varphi) - 1)⋅⎝\\gamma₁ ⋅cos(4⋅\\varphi) - \\gamma₁  -\n",
       "   ╱            ──────────────────────────────────────────────────────────────\n",
       "  ╱                                                      4                    \n",
       "╲╱                                                \\gamma₁ ⋅cos(4⋅\\varphi) - \\g\n",
       "\n",
       "______________________________________________________________________________\n",
       "______________________________________________________________________________\n",
       "           2        2                           2        2          4         \n",
       "- 2⋅\\gamma₁ ⋅\\gamma₂ ⋅cos(4⋅\\varphi) - 6⋅\\gamma₁ ⋅\\gamma₂  + \\gamma₂ ⋅cos(4⋅\\v\n",
       "──────────────────────────────────────────────────────────────────────────────\n",
       "      4            2        2                           2        2          4 \n",
       "gamma₁  - 2⋅\\gamma₁ ⋅\\gamma₂ ⋅cos(4⋅\\varphi) - 6⋅\\gamma₁ ⋅\\gamma₂  + \\gamma₂ ⋅\n",
       "──────────────────────────────────────────────────────────────────────────────\n",
       "______________________________________________________________________________\n",
       "          2        2                           2        2          4          \n",
       " 2⋅\\gamma₁ ⋅\\gamma₂ ⋅cos(4⋅\\varphi) - 6⋅\\gamma₁ ⋅\\gamma₂  + \\gamma₂ ⋅cos(4⋅\\va\n",
       "──────────────────────────────────────────────────────────────────────────────\n",
       "     4            2        2                           2        2          4  \n",
       "amma₁  - 2⋅\\gamma₁ ⋅\\gamma₂ ⋅cos(4⋅\\varphi) - 6⋅\\gamma₁ ⋅\\gamma₂  + \\gamma₂ ⋅c\n",
       "\n",
       "________________________________________________________________\n",
       "___________________                                             \n",
       "                4⎞                                              \n",
       "arphi) - \\gamma₂ ⎠ ⋅(\\gamma₁ - \\gamma₂)⋅(\\gamma₁ + \\gamma₂)     \n",
       "─────────────────────────────────────────────────────────── + 1 \n",
       "                        4                                       \n",
       "cos(4⋅\\varphi) - \\gamma₂                                        \n",
       "─────────────────────────────────────────────────────────────── \n",
       "__________________                                              \n",
       "               4⎞                                               \n",
       "rphi) - \\gamma₂ ⎠ ⋅(\\gamma₁ - \\gamma₂)⋅(\\gamma₁ + \\gamma₂)      \n",
       "────────────────────────────────────────────────────────── + 1  \n",
       "                       4                                        \n",
       "os(4⋅\\varphi) - \\gamma₂                                         "
      ]
     },
     "execution_count": 34,
     "metadata": {},
     "output_type": "execute_result"
    }
   ],
   "source": [
    "sCorr2D_eval_relation = sympy.sqrt(list(sCorr.eigenvals())[0]/list(sCorr.eigenvals())[1])\n",
    "sCorr2D_eval_relation"
   ]
  },
  {
   "cell_type": "markdown",
   "metadata": {
    "deletable": true,
    "editable": true
   },
   "source": [
    "This does not look like a simple expression, e.g. latest here we can see that our visual cue from above is most likely wrong.\n",
    "\n",
    "A simple way to check is to verify with some numeric values.\n",
    "\n",
    "The first verification is that if we had our original ellipse aligned with the 45° axis between the x-axis and the y-axis then we would expect that the scaled ellipse should keep the aspect ratio:"
   ]
  },
  {
   "cell_type": "code",
   "execution_count": 35,
   "metadata": {
    "collapsed": false,
    "deletable": true,
    "editable": true
   },
   "outputs": [
    {
     "data": {
      "image/png": "[encoded data removed]",
      "text/latex": [
       "$$20.0000000000002$$"
      ],
      "text/plain": [
       "20.0000000000002"
      ]
     },
     "execution_count": 35,
     "metadata": {},
     "output_type": "execute_result"
    }
   ],
   "source": [
    "sgamma2_value = 1.0\n",
    "sgamma1_factor = 20.0\n",
    "sgamma1_value = sgamma1_factor * sgamma2_value\n",
    "sephi_value_45_degrees = 45.0/180.0*np.pi\n",
    "sCorr2D_eval_relation.subs(sephi, sephi_value_45_degrees).subs(sgamma1, sgamma1_value).subs(sgamma2, sgamma2_value)"
   ]
  },
  {
   "cell_type": "markdown",
   "metadata": {
    "deletable": true,
    "editable": true
   },
   "source": [
    "Which is 20, as expected by our input of `sgamma1_factor=20`. The correlation matrix looks like this:"
   ]
  },
  {
   "cell_type": "code",
   "execution_count": 36,
   "metadata": {
    "collapsed": false,
    "deletable": true,
    "editable": true
   },
   "outputs": [
    {
     "data": {
      "text/latex": [
       "$$\\left[\\begin{matrix}1 & 0.99501246882793\\\\0.99501246882793 & 1\\end{matrix}\\right]$$"
      ],
      "text/plain": [
       "⎡       1          0.99501246882793⎤\n",
       "⎢                                  ⎥\n",
       "⎣0.99501246882793         1        ⎦"
      ]
     },
     "execution_count": 36,
     "metadata": {},
     "output_type": "execute_result"
    }
   ],
   "source": [
    "sCorr.subs(sephi, sephi_value_45_degrees).subs(sgamma1, sgamma1_value).subs(sgamma2, sgamma2_value)"
   ]
  },
  {
   "cell_type": "markdown",
   "metadata": {
    "deletable": true,
    "editable": true
   },
   "source": [
    "Now let's see what happens if we chose another angle, e.g. 10°:"
   ]
  },
  {
   "cell_type": "code",
   "execution_count": 37,
   "metadata": {
    "collapsed": false,
    "deletable": true,
    "editable": true
   },
   "outputs": [
    {
     "data": {
      "image/png": "[encoded data removed]",
      "text/latex": [
       "$$6.96683897898152$$"
      ],
      "text/plain": [
       "6.96683897898152"
      ]
     },
     "execution_count": 37,
     "metadata": {},
     "output_type": "execute_result"
    }
   ],
   "source": [
    "sephi_value_10_degrees = 10.0/180.0*np.pi\n",
    "sCorr2D_eval_relation.subs(sephi, sephi_value_10_degrees).subs(sgamma1, sgamma1_value).subs(sgamma2, sgamma2_value)"
   ]
  },
  {
   "cell_type": "markdown",
   "metadata": {
    "deletable": true,
    "editable": true
   },
   "source": [
    "Now this aspect ratio of the correlation ellipse half axis departs considerably from the aspect ratio of the half axis of our original ellipse. This concludes that the original assumption was wrong.\n",
    "\n",
    "The correlation matrix here looks like this:"
   ]
  },
  {
   "cell_type": "code",
   "execution_count": 38,
   "metadata": {
    "collapsed": false,
    "deletable": true,
    "editable": true
   },
   "outputs": [
    {
     "data": {
      "text/latex": [
       "$$\\left[\\begin{matrix}1 & 0.959626012001704\\\\0.959626012001704 & 1\\end{matrix}\\right]$$"
      ],
      "text/plain": [
       "⎡        1          0.959626012001704⎤\n",
       "⎢                                    ⎥\n",
       "⎣0.959626012001704          1        ⎦"
      ]
     },
     "execution_count": 38,
     "metadata": {},
     "output_type": "execute_result"
    }
   ],
   "source": [
    "sCorr.subs(sephi, sephi_value_10_degrees).subs(sgamma1, sgamma1_value).subs(sgamma2, sgamma2_value)"
   ]
  },
  {
   "cell_type": "markdown",
   "metadata": {
    "deletable": true,
    "editable": true
   },
   "source": [
    "You can see that there is no relationship between the correlation matrices or their associated ellipses with the original data ellipse that we used as a starting point. The only way to see that basically two data ellipses are the same is by looking at the eigenvalues of the original data ellipses. If they have the same eigenvalues then the two ellipses are the same and may only be rotated."
   ]
  },
  {
   "cell_type": "markdown",
   "metadata": {
    "deletable": true,
    "editable": true
   },
   "source": [
    "# Scale measures of the Multi-Varite Normal"
   ]
  },
  {
   "cell_type": "markdown",
   "metadata": {
    "deletable": true,
    "editable": true
   },
   "source": [
    "## Mahalanobis distance"
   ]
  },
  {
   "cell_type": "markdown",
   "metadata": {
    "deletable": true,
    "editable": true
   },
   "source": [
    "How would you anser the question if a given $\\pmb{x}_i\\in\\mathbb{R}^N$ is \"strange\" in terms of its size, e.g. if you would expect to see such values or if they are a surprise? \n",
    "\n",
    "In the univariate case you compare $|x_i-\\mu|$ with $\\sigma$ and you know that between $\\mu-\\sigma$ and $\\mu+\\sigma$ there are roughly $68\\%$ of the probability mass ([68–95–99.7 rule](https://en.wikipedia.org/wiki/68%E2%80%9395%E2%80%9399.7_rule), [standard deviation](https://en.wikipedia.org/wiki/Standard_deviation)). Therefore you would be surprised to see an $x_i$ that is much further away from $\\mu$ than let's say $3\\sigma$.\n",
    "\n",
    "In the multi-variate case the level of \"surprise\" depends on the direction. For the further discussion I will drop the $\\mu$ and assume that we talk about a random vector where $\\pmb{\\mu}=0$. What still remains true, though is that the exponent of the multi-variate normal distribution depends on:\n",
    "$$p(\\pmb{x}_i)\\sim\\exp(-\\frac{1}{2}\\pmb{x}_i^T\\pmb{\\Sigma}^{-1}\\pmb{x})$$\n",
    "Therefore $\\pmb{x}_i^T\\pmb{\\Sigma}^{-1}\\pmb{x}$ (which is a raw number like $0.7$ or $1.24$ or similar) plays the role of the (square of the) factor in front of the $\\sigma$ in the univariate case. This is actually the basis of the [Mahalanobis distance](https://en.wikipedia.org/wiki/Mahalanobis_distance). As the Wikipedia page says:\n",
    "\n",
    "> For a normal distribution in any number of dimensions, the probability of an observation is uniquely determined by the Mahalanobis distance d. Specifically, $d^{2}$ is [chi-squared distributed](https://en.wikipedia.org/wiki/Chi-squared_distribution). If the number of dimensions is $2$, for example, the probability of a particular calculated $d$ being less than some threshold $t$ is $p(d< t)=\n",
    "1-e^{-t^2/2}$. To determine a threshold to achieve a particular probability, $p$, use $t=\\sqrt{-2\\ln(1-p)}$, for $2$ dimensions. For number of dimensions other than 2, the [cumulative chi-squared distribution](https://en.wikipedia.org/wiki/Chi-squared_distribution#Cumulative_distribution_function) should be consulted."
   ]
  },
  {
   "cell_type": "markdown",
   "metadata": {
    "deletable": true,
    "editable": true
   },
   "source": [
    "Let's cross check some of this. Let's first check if the values we get are correct for the univariate case with which we can easily compare. In the univariate case the degree of freedom of the $\\chi^2$ distribution is $1$:"
   ]
  },
  {
   "cell_type": "code",
   "execution_count": 39,
   "metadata": {
    "collapsed": false,
    "deletable": true,
    "editable": true
   },
   "outputs": [
    {
     "data": {
      "image/png": "[encoded data removed]",
      "text/latex": [
       "$$0.682689492137$$"
      ],
      "text/plain": [
       "0.682689492137"
      ]
     },
     "execution_count": 39,
     "metadata": {},
     "output_type": "execute_result"
    }
   ],
   "source": [
    "degrees_of_freedom = 1\n",
    "threshold_t = 1\n",
    "scipy.stats.chi2.cdf(threshold_t, degrees_of_freedom)"
   ]
  },
  {
   "cell_type": "markdown",
   "metadata": {
    "deletable": true,
    "editable": true
   },
   "source": [
    "Which fits to our expectation that in the univariate case $68\\%$ of the probability mass are between $\\mu-\\sigma$ and $\\mu+\\sigma$."
   ]
  },
  {
   "cell_type": "markdown",
   "metadata": {
    "deletable": true,
    "editable": true
   },
   "source": [
    "If you wanted to know in the univariate case the value of the cumulative probability mass between $\\mu-2\\sigma$ and $\\mu+2\\sigma$ you would have to look at a $t$ of $t=2^2=4$:"
   ]
  },
  {
   "cell_type": "code",
   "execution_count": 40,
   "metadata": {
    "collapsed": false,
    "deletable": true,
    "editable": true
   },
   "outputs": [
    {
     "data": {
      "image/png": "[encoded data removed]",
      "text/latex": [
       "$$0.954499736104$$"
      ],
      "text/plain": [
       "0.954499736104"
      ]
     },
     "execution_count": 40,
     "metadata": {},
     "output_type": "execute_result"
    }
   ],
   "source": [
    "degrees_of_freedom = 1\n",
    "threshold_t = 4\n",
    "scipy.stats.chi2.cdf(threshold_t, degrees_of_freedom)"
   ]
  },
  {
   "cell_type": "markdown",
   "metadata": {
    "deletable": true,
    "editable": true
   },
   "source": [
    "Which, of course, again matches our expectations."
   ]
  },
  {
   "cell_type": "markdown",
   "metadata": {
    "deletable": true,
    "editable": true
   },
   "source": [
    "How would that look like for 2 dimensions? How much cumulative probability mass would be within the ellipse of the $d=1$?"
   ]
  },
  {
   "cell_type": "code",
   "execution_count": 41,
   "metadata": {
    "collapsed": false,
    "deletable": true,
    "editable": true
   },
   "outputs": [
    {
     "data": {
      "image/png": "[encoded data removed]",
      "text/latex": [
       "$$0.393469340287$$"
      ],
      "text/plain": [
       "0.393469340287"
      ]
     },
     "execution_count": 41,
     "metadata": {},
     "output_type": "execute_result"
    }
   ],
   "source": [
    "degrees_of_freedom = 2\n",
    "threshold_t = 1\n",
    "scipy.stats.chi2.cdf(threshold_t, degrees_of_freedom)"
   ]
  },
  {
   "cell_type": "markdown",
   "metadata": {
    "deletable": true,
    "editable": true
   },
   "source": [
    "So you would need to pick a larger \"radius\" of the ellipse in order to catch again $68\\%$ of the probability mass, but you see that the principle still works. The paper [Understanding Statistical Methods through Elliptical Geometry](http://citeseerx.ist.psu.edu/viewdoc/summary?doi=10.1.1.259.3710&rank=1) shows on page 9 a so called [sunflower plot](http://sas-and-r.blogspot.de/2011/03/example-832-histdata-package-sunflower.html) with the $40\\%$, $68\\%$ and the $95\\%$ data ellipses. In order to get the corresponding \"radiuses\" you need to invert the cumulative chi-square distribution. This is called in `scipy` the percent-point function. Let's first check this with a known value:"
   ]
  },
  {
   "cell_type": "code",
   "execution_count": 42,
   "metadata": {
    "collapsed": false,
    "deletable": true,
    "editable": true
   },
   "outputs": [
    {
     "data": {
      "image/png": "[encoded data removed]",
      "text/latex": [
       "$$0.999969201176$$"
      ],
      "text/plain": [
       "0.999969201176"
      ]
     },
     "execution_count": 42,
     "metadata": {},
     "output_type": "execute_result"
    }
   ],
   "source": [
    "scipy.stats.chi2.ppf(0.39346, degrees_of_freedom)"
   ]
  },
  {
   "cell_type": "markdown",
   "metadata": {
    "deletable": true,
    "editable": true
   },
   "source": [
    "If we would want to calculate the \"radius\" of the $95\\%$ data ellipse we would need to get $0.95=\\chi_2^2(c^2)\\Rightarrow c^2\\approx 5.99$."
   ]
  },
  {
   "cell_type": "code",
   "execution_count": 43,
   "metadata": {
    "collapsed": false,
    "deletable": true,
    "editable": true
   },
   "outputs": [
    {
     "data": {
      "image/png": "[encoded data removed]",
      "text/latex": [
       "$$5.99146454711$$"
      ],
      "text/plain": [
       "5.99146454711"
      ]
     },
     "execution_count": 43,
     "metadata": {},
     "output_type": "execute_result"
    }
   ],
   "source": [
    "scipy.stats.chi2.ppf(0.95, degrees_of_freedom)"
   ]
  },
  {
   "cell_type": "markdown",
   "metadata": {
    "deletable": true,
    "editable": true
   },
   "source": [
    "If we would want to plot this larger data ellipse we would do it as follows:"
   ]
  },
  {
   "cell_type": "code",
   "execution_count": 44,
   "metadata": {
    "collapsed": true,
    "deletable": true,
    "editable": true
   },
   "outputs": [],
   "source": [
    "z_63d_ellipse_95pct_contour_level = scipy.stats.chi2.ppf(0.95, degrees_of_freedom)\n",
    "_, z_63d_ellipse_95pct, x1_63d_ellipse_95pct, x2_63d_ellipse_95pct, _ = \\\n",
    "    mvn_basics.generate_2d_ellipse_image(T_63d_ellipse, \n",
    "                                         contour_level=z_63d_ellipse_95pct_contour_level)"
   ]
  },
  {
   "cell_type": "markdown",
   "metadata": {
    "deletable": true,
    "editable": true
   },
   "source": [
    "In order to compare this to data points generated by a MVN distribution we generate some data-points:"
   ]
  },
  {
   "cell_type": "code",
   "execution_count": 45,
   "metadata": {
    "collapsed": false,
    "deletable": true,
    "editable": true
   },
   "outputs": [],
   "source": [
    "rvs_63d_ellipse = scipy.stats.multivariate_normal.rvs([0,0], S_63d_ellipse, 500, \n",
    "                                                      random_state=np.random.RandomState(42))"
   ]
  },
  {
   "cell_type": "markdown",
   "metadata": {
    "deletable": true,
    "editable": true
   },
   "source": [
    "Now let's plot that:"
   ]
  },
  {
   "cell_type": "code",
   "execution_count": 46,
   "metadata": {
    "collapsed": false
   },
   "outputs": [
    {
     "data": {
      "text/plain": [
       "21"
      ]
     },
     "execution_count": 46,
     "metadata": {},
     "output_type": "execute_result"
    }
   ],
   "source": [
    "# https://stackoverflow.com/questions/8457110/how-to-vectorize-the-evaluation-of-bilinear-quadratic-forms\n",
    "X_ = np.matrix(rvs_63d_ellipse.T)\n",
    "A_ = np.matrix(T_63d_ellipse)\n",
    "select_ = ((X_.T*A_).A * X_.T.A).sum(1) > z_63d_ellipse_95pct_contour_level\n",
    "np.sum(select_)"
   ]
  },
  {
   "cell_type": "code",
   "execution_count": 47,
   "metadata": {
    "collapsed": false,
    "deletable": true,
    "editable": true
   },
   "outputs": [
    {
     "data": {
      "image/png": "[encoded data removed]",
      "text/plain": [
       "<matplotlib.figure.Figure at 0x7fbc10aa9320>"
      ]
     },
     "metadata": {},
     "output_type": "display_data"
    }
   ],
   "source": [
    "fig=plt.figure(figsize=(8, 8), dpi= 80, facecolor='w', edgecolor='k')\n",
    "ax = plt.subplot(111)\n",
    "ax.set_aspect('equal', 'datalim')\n",
    "mvn_basics.paint_2d_ellipse_contour(z_63d_ellipse_95pct, x1_63d_ellipse_95pct, x2_63d_ellipse_95pct, ax=ax,\n",
    "                                   contour_level=z_63d_ellipse_95pct_contour_level)\n",
    "ax.scatter(rvs_63d_ellipse[select_,0], rvs_63d_ellipse[select_,1], s=8, c='r');\n",
    "ax.scatter(rvs_63d_ellipse[~select_,0], rvs_63d_ellipse[~select_,1], s=2, c='b');"
   ]
  },
  {
   "cell_type": "markdown",
   "metadata": {
    "deletable": true,
    "editable": true
   },
   "source": [
    "We would expect to see $5\\%$ of points outside the ellipse, which would be for $500$ data points a total of $25$ data points. In our example we have $21$ points outside the ellipse. Good enough."
   ]
  },
  {
   "cell_type": "markdown",
   "metadata": {
    "deletable": true,
    "editable": true
   },
   "source": [
    "The Wikipedia article about the [Mahalanobis distance](https://en.wikipedia.org/wiki/Mahalanobis_distance) says:\n",
    "\n",
    "> If each of these axes is rescaled to have unit variance, then Mahalanobis distance corresponds to standard Euclidean distance in the transformed space.\n",
    "\n",
    "I believe this is wrong as also the following calculation indicates in the 2-dimensional case:"
   ]
  },
  {
   "cell_type": "code",
   "execution_count": 48,
   "metadata": {
    "collapsed": false,
    "deletable": true,
    "editable": true
   },
   "outputs": [
    {
     "data": {
      "text/latex": [
       "$$\\left[\\begin{matrix}x_{1} \\left(\\varrho x_{2} + x_{1}\\right) + x_{2} \\left(\\varrho x_{1} + x_{2}\\right)\\end{matrix}\\right]$$"
      ],
      "text/plain": [
       "[x_{1}⋅(\\varrho⋅x_{2} + x_{1}) + x_{2}⋅(\\varrho⋅x_{1} + x_{2})]"
      ]
     },
     "execution_count": 48,
     "metadata": {},
     "output_type": "execute_result"
    }
   ],
   "source": [
    "sx1, sx2, srho = sympy.symbols(r'x_{1}, x_{2}, \\varrho')\n",
    "sxvec = sympy.Matrix([sx1, sx2])\n",
    "scorr = sympy.Matrix([[1, srho], [srho, 1]])\n",
    "sxvec.T * scorr * sxvec"
   ]
  },
  {
   "cell_type": "code",
   "execution_count": 49,
   "metadata": {
    "collapsed": false,
    "deletable": true,
    "editable": true
   },
   "outputs": [
    {
     "data": {
      "image/png": "[encoded data removed]",
      "text/latex": [
       "$$2 \\varrho x_{1} x_{2} + x_{1}^{2} + x_{2}^{2}$$"
      ],
      "text/plain": [
       "                             2        2\n",
       "2⋅\\varrho⋅x_{1}⋅x_{2} + x_{1}  + x_{2} "
      ]
     },
     "execution_count": 49,
     "metadata": {},
     "output_type": "execute_result"
    }
   ],
   "source": [
    "sx1**2+2*srho*sx1*sx2+sx2**2"
   ]
  },
  {
   "cell_type": "markdown",
   "metadata": {
    "deletable": true,
    "editable": true
   },
   "source": [
    "This differs by the factor $2\\varrho x_1x_2$ from the Euclidean distance. It also intuitively makes sense that even in the case of rescaling the axis to unit variance the ellipse may still be \"stretched\" and therefore the Mahalanobis distance cannot be the simply Euclidean distance."
   ]
  },
  {
   "cell_type": "code",
   "execution_count": 50,
   "metadata": {
    "collapsed": true,
    "deletable": true,
    "editable": true
   },
   "outputs": [],
   "source": [
    "from IPython.display import display, HTML\n",
    "\n",
    "from IPython.display import display_html\n",
    "def display_side_by_side(*args):\n",
    "    html_str=''\n",
    "    for df in args:\n",
    "        if type(df) == np.ndarray:\n",
    "            df = pd.DataFrame(df)\n",
    "        html_str+=df.to_html()\n",
    "    html_str = html_str.replace('table','table style=\"display:inline\"')\n",
    "    # print(html_str)\n",
    "    display_html(html_str,raw=True)\n",
    "\n",
    "CSS = \"\"\"\n",
    ".output {\n",
    "    flex-direction: row;\n",
    "}\n",
    "\"\"\"\n",
    "\n",
    "#HTML('<style>{}</style>'.format(CSS))"
   ]
  },
  {
   "cell_type": "markdown",
   "metadata": {
    "deletable": true,
    "editable": true
   },
   "source": [
    "## Total variation"
   ]
  },
  {
   "cell_type": "markdown",
   "metadata": {
    "deletable": true,
    "editable": true
   },
   "source": [
    "If you have a set of vectors from a multi-variate normal, like above the `rvs_63d_ellipse`, where we have 500 2-dimensional vectors. What would we expect their average squared distance from the center to be?\n",
    "$$\\left<\\pmb{x}^2\\right> = \\frac{1}{N-1}\\sum_{i=1}^N  |\\pmb{x}_i|^2$$\n",
    "In the univariate case this would basically be (in case of large samples) the [sample variance](https://en.wikipedia.org/wiki/Variance#Sample_variance). In the multi-variate case this idea leads us to the so called [**Total Variation**](https://onlinecourses.science.psu.edu/stat505/node/21)."
   ]
  },
  {
   "cell_type": "markdown",
   "metadata": {
    "deletable": true,
    "editable": true
   },
   "source": [
    "In the case of $D$ dimensions this is:\n",
    "$$\\left<\\pmb{x}^2\\right> = \\frac{1}{N-1}\\sum_{i=1}^N  |\\pmb{x}_i|^2 = \\frac{1}{N-1}\\sum_{i=1}^N \\sum_{d=1}^D  x_{id}^2\n",
    "=\\sum_{d=1}^D\\frac{1}{N-1}\\sum_{i=1}^N  x_{id}^2\n",
    "=\\sum_{d=1}^D{\\sigma_d^s}^2\n",
    "$$\n",
    "The ${\\sigma_d^s}^2$ are given by the diagonal elements of the sample covariance matrix and you can write the sum as:\n",
    "$$\n",
    "\\DeclareMathOperator{\\tr}{tr}\n",
    "\\left<\\pmb{x}^2\\right>=\\tr(\\Sigma^s)\n",
    "$$"
   ]
  },
  {
   "cell_type": "markdown",
   "metadata": {
    "deletable": true,
    "editable": true
   },
   "source": [
    "As the trace of a matrix is [invariant under basis transformations](https://en.wikipedia.org/wiki/Trace_(linear_algebra) you have:\n",
    "$$\n",
    "\\left<\\pmb{x}^2\\right>=\\tr(\\Sigma^s)=\\sum_i\\lambda_i^s\n",
    "$$\n",
    "Which means that the total variation is the sum of the eigenvalues of the sample covariance matrix."
   ]
  },
  {
   "cell_type": "markdown",
   "metadata": {
    "deletable": true,
    "editable": true
   },
   "source": [
    "Let's check this. The following three expressions are:\n",
    "* the expected square distance of the center $\\left<\\pmb{x}^2\\right>$\n",
    "* the trace of the sample covariance matrix and\n",
    "* the sum of the eigenvalues of the sample covariance matrix"
   ]
  },
  {
   "cell_type": "code",
   "execution_count": 51,
   "metadata": {
    "collapsed": false,
    "deletable": true,
    "editable": true
   },
   "outputs": [
    {
     "data": {
      "image/png": "[encoded data removed]",
      "text/latex": [
       "$$24.3644494568$$"
      ],
      "text/plain": [
       "24.3644494568"
      ]
     },
     "execution_count": 51,
     "metadata": {},
     "output_type": "execute_result"
    }
   ],
   "source": [
    "np.sum(rvs_63d_ellipse**2)/(rvs_63d_ellipse.shape[0]-1)"
   ]
  },
  {
   "cell_type": "code",
   "execution_count": 52,
   "metadata": {
    "collapsed": false,
    "deletable": true,
    "editable": true
   },
   "outputs": [
    {
     "data": {
      "image/png": "[encoded data removed]",
      "text/latex": [
       "$$24.3628927194$$"
      ],
      "text/plain": [
       "24.3628927194"
      ]
     },
     "execution_count": 52,
     "metadata": {},
     "output_type": "execute_result"
    }
   ],
   "source": [
    "np.trace(np.cov(rvs_63d_ellipse.T))"
   ]
  },
  {
   "cell_type": "code",
   "execution_count": 53,
   "metadata": {
    "collapsed": false,
    "deletable": true,
    "editable": true
   },
   "outputs": [
    {
     "data": {
      "text/html": [
       "<table style=\"display:inline\" border=\"1\" class=\"dataframe\">\n",
       "  <thead>\n",
       "    <tr style=\"text-align: right;\">\n",
       "      <th></th>\n",
       "      <th>0</th>\n",
       "    </tr>\n",
       "  </thead>\n",
       "  <tbody>\n",
       "    <tr>\n",
       "      <th>0</th>\n",
       "      <td>23.380</td>\n",
       "    </tr>\n",
       "    <tr>\n",
       "      <th>1</th>\n",
       "      <td>0.983</td>\n",
       "    </tr>\n",
       "  </tbody>\n",
       "</table style=\"display:inline\"><table style=\"display:inline\" border=\"1\" class=\"dataframe\">\n",
       "  <thead>\n",
       "    <tr style=\"text-align: right;\">\n",
       "      <th></th>\n",
       "      <th>0</th>\n",
       "      <th>1</th>\n",
       "    </tr>\n",
       "  </thead>\n",
       "  <tbody>\n",
       "    <tr>\n",
       "      <th>0</th>\n",
       "      <td>0.442</td>\n",
       "      <td>-0.897</td>\n",
       "    </tr>\n",
       "    <tr>\n",
       "      <th>1</th>\n",
       "      <td>0.897</td>\n",
       "      <td>0.442</td>\n",
       "    </tr>\n",
       "  </tbody>\n",
       "</table style=\"display:inline\">"
      ]
     },
     "metadata": {},
     "output_type": "display_data"
    }
   ],
   "source": [
    "S_sample_63d_ellipse = np.cov(rvs_63d_ellipse.T)\n",
    "S_sample_63d_ellipse_evd = np.linalg.eigh(S_sample_63d_ellipse)\n",
    "idx = S_sample_63d_ellipse_evd[0].argsort()[::-1]\n",
    "S_sample_63d_ellipse_evd = (S_sample_63d_ellipse_evd[0][idx], S_sample_63d_ellipse_evd[1][:,idx])\n",
    "display_side_by_side(S_sample_63d_ellipse_evd[0], S_sample_63d_ellipse_evd[1])"
   ]
  },
  {
   "cell_type": "code",
   "execution_count": 54,
   "metadata": {
    "collapsed": false,
    "deletable": true,
    "editable": true
   },
   "outputs": [
    {
     "data": {
      "image/png": "[encoded data removed]",
      "text/latex": [
       "$$24.3628927194$$"
      ],
      "text/plain": [
       "24.3628927194"
      ]
     },
     "execution_count": 54,
     "metadata": {},
     "output_type": "execute_result"
    }
   ],
   "source": [
    "np.sum(S_sample_63d_ellipse_evd[0])"
   ]
  },
  {
   "cell_type": "markdown",
   "metadata": {},
   "source": [
    "Just as a side remark: if we would have calculated the covariance matrix by hand ourselves via its definition:\n",
    "$$\\Sigma^s=\\frac{1}{N-1}X^TX$$\n",
    "We would have got an exact match of the results:"
   ]
  },
  {
   "cell_type": "code",
   "execution_count": 55,
   "metadata": {
    "collapsed": false
   },
   "outputs": [
    {
     "data": {
      "image/png": "[encoded data removed]",
      "text/latex": [
       "$$24.3644494568$$"
      ],
      "text/plain": [
       "24.3644494568"
      ]
     },
     "execution_count": 55,
     "metadata": {},
     "output_type": "execute_result"
    }
   ],
   "source": [
    "np.trace(np.dot(rvs_63d_ellipse.T,rvs_63d_ellipse)/(rvs_63d_ellipse.shape[0]-1))"
   ]
  },
  {
   "cell_type": "markdown",
   "metadata": {},
   "source": [
    "I am not sure in what exact detail the `numpy.cov` function differs from our calculation by hand so that it ends up with slightly different results."
   ]
  },
  {
   "cell_type": "markdown",
   "metadata": {
    "deletable": true,
    "editable": true
   },
   "source": [
    "### The Frobenius norm and singular values"
   ]
  },
  {
   "cell_type": "markdown",
   "metadata": {
    "deletable": true,
    "editable": true
   },
   "source": [
    "The [summary of the singular value decomposition](http://www.cs.cmu.edu/~venkatg/teaching/CStheory-infoage/SVD-chap.pdf) from [Venkatesan Guruswami](http://www.cs.cmu.edu/~venkatg/) that I mentioned already at the very top contains a proof of his lemma 4.2, that the sum of squares of the singular values equals the square of the [Forbenius norm](https://en.wikipedia.org/wiki/Matrix_norm#Frobenius_norm). In numpy the Frobenius norm is the standard for `numpy.linalg.norm` and the definition is given by:\n",
    "$$||A||_F=\\sqrt{\\sum_{ij} a_{ij}^2}$$"
   ]
  },
  {
   "cell_type": "markdown",
   "metadata": {
    "deletable": true,
    "editable": true
   },
   "source": [
    "Normally the singular values are denoted by $\\sigma$, but as we already used $\\sigma$ to denote the standard deviation we will use $\\kappa$ to denote the singular values. Then the lemma 4.2 reads:\n",
    "$$||A||_F^2=\\sum_i\\kappa_i^2(A)$$"
   ]
  },
  {
   "cell_type": "markdown",
   "metadata": {
    "deletable": true,
    "editable": true
   },
   "source": [
    "If we now look at our expression for $\\left<\\pmb{x}^2\\right>$ we see that:\n",
    "$$\\left<\\pmb{x}^2\\right> = \\frac{1}{N-1}||X||_F^2$$"
   ]
  },
  {
   "cell_type": "markdown",
   "metadata": {
    "deletable": true,
    "editable": true
   },
   "source": [
    "Here is the expression directly via the Frobenius norm:"
   ]
  },
  {
   "cell_type": "code",
   "execution_count": 56,
   "metadata": {
    "collapsed": false,
    "deletable": true,
    "editable": true
   },
   "outputs": [
    {
     "data": {
      "image/png": "[encoded data removed]",
      "text/latex": [
       "$$24.3644494568$$"
      ],
      "text/plain": [
       "24.3644494568"
      ]
     },
     "execution_count": 56,
     "metadata": {},
     "output_type": "execute_result"
    }
   ],
   "source": [
    "np.linalg.norm(rvs_63d_ellipse)**2/(rvs_63d_ellipse.shape[0]-1)"
   ]
  },
  {
   "cell_type": "markdown",
   "metadata": {
    "deletable": true,
    "editable": true
   },
   "source": [
    "And here is the expression via the singular value decomposition:"
   ]
  },
  {
   "cell_type": "code",
   "execution_count": 57,
   "metadata": {
    "collapsed": false,
    "deletable": true,
    "editable": true
   },
   "outputs": [
    {
     "data": {
      "text/html": [
       "<table style=\"display:inline\" border=\"1\" class=\"dataframe\">\n",
       "  <thead>\n",
       "    <tr style=\"text-align: right;\">\n",
       "      <th></th>\n",
       "      <th>0</th>\n",
       "      <th>1</th>\n",
       "    </tr>\n",
       "  </thead>\n",
       "  <tbody>\n",
       "    <tr>\n",
       "      <th>0</th>\n",
       "      <td>0.442</td>\n",
       "      <td>0.897</td>\n",
       "    </tr>\n",
       "    <tr>\n",
       "      <th>1</th>\n",
       "      <td>0.897</td>\n",
       "      <td>-0.442</td>\n",
       "    </tr>\n",
       "  </tbody>\n",
       "</table style=\"display:inline\"><table style=\"display:inline\" border=\"1\" class=\"dataframe\">\n",
       "  <thead>\n",
       "    <tr style=\"text-align: right;\">\n",
       "      <th></th>\n",
       "      <th>0</th>\n",
       "      <th>1</th>\n",
       "    </tr>\n",
       "  </thead>\n",
       "  <tbody>\n",
       "    <tr>\n",
       "      <th>0</th>\n",
       "      <td>0.447</td>\n",
       "      <td>0.894</td>\n",
       "    </tr>\n",
       "    <tr>\n",
       "      <th>1</th>\n",
       "      <td>0.894</td>\n",
       "      <td>-0.447</td>\n",
       "    </tr>\n",
       "  </tbody>\n",
       "</table style=\"display:inline\">"
      ]
     },
     "metadata": {},
     "output_type": "display_data"
    }
   ],
   "source": [
    "rvs_63d_ellipse_svd = np.linalg.svd(rvs_63d_ellipse)\n",
    "display_side_by_side(rvs_63d_ellipse_svd[2],-Q_63d_ellipse)"
   ]
  },
  {
   "cell_type": "markdown",
   "metadata": {
    "deletable": true,
    "editable": true
   },
   "source": [
    "The left singular vectors of `rvs_63d_ellipse` are a large matrix and therefore we don't display it above:"
   ]
  },
  {
   "cell_type": "code",
   "execution_count": 58,
   "metadata": {
    "collapsed": false,
    "deletable": true,
    "editable": true
   },
   "outputs": [
    {
     "data": {
      "image/png": "[encoded data removed]",
      "text/latex": [
       "$$\\left ( 500, \\quad 500\\right )$$"
      ],
      "text/plain": [
       "(500, 500)"
      ]
     },
     "execution_count": 58,
     "metadata": {},
     "output_type": "execute_result"
    }
   ],
   "source": [
    "rvs_63d_ellipse_svd[0].shape"
   ]
  },
  {
   "cell_type": "markdown",
   "metadata": {
    "deletable": true,
    "editable": true
   },
   "source": [
    "The right singular vectors of `rvs_63d_ellipse` are basically the same as our `Q_63d_ellipse` that was the input to our construction."
   ]
  },
  {
   "cell_type": "markdown",
   "metadata": {
    "deletable": true,
    "editable": true
   },
   "source": [
    "Here are the singular values themselves:"
   ]
  },
  {
   "cell_type": "code",
   "execution_count": 59,
   "metadata": {
    "collapsed": false,
    "deletable": true,
    "editable": true
   },
   "outputs": [
    {
     "data": {
      "text/plain": [
       "array([ 108.01196073,   22.16476073])"
      ]
     },
     "execution_count": 59,
     "metadata": {},
     "output_type": "execute_result"
    }
   ],
   "source": [
    "rvs_63d_ellipse_svd[1]"
   ]
  },
  {
   "cell_type": "markdown",
   "metadata": {
    "deletable": true,
    "editable": true
   },
   "source": [
    "And here we verify that the result of lemma 4.2 match:"
   ]
  },
  {
   "cell_type": "code",
   "execution_count": 60,
   "metadata": {
    "collapsed": false,
    "deletable": true,
    "editable": true
   },
   "outputs": [
    {
     "data": {
      "image/png": "[encoded data removed]",
      "text/latex": [
       "$$24.3644494568$$"
      ],
      "text/plain": [
       "24.3644494568"
      ]
     },
     "execution_count": 60,
     "metadata": {},
     "output_type": "execute_result"
    }
   ],
   "source": [
    "np.sum(rvs_63d_ellipse_svd[1]**2)/(rvs_63d_ellipse.shape[0]-1)"
   ]
  },
  {
   "cell_type": "markdown",
   "metadata": {
    "deletable": true,
    "editable": true
   },
   "source": [
    "### Connection between the singular values of $X$ and eigenvalues of the sample covariance matrix"
   ]
  },
  {
   "cell_type": "markdown",
   "metadata": {
    "deletable": true,
    "editable": true
   },
   "source": [
    "The sample covariance matrix is defined as:\n",
    "$$\\Sigma^s=\\frac{1}{N-1}X^TX$$"
   ]
  },
  {
   "cell_type": "code",
   "execution_count": 61,
   "metadata": {
    "collapsed": false,
    "deletable": true,
    "editable": true
   },
   "outputs": [
    {
     "data": {
      "text/plain": [
       "array([[  5.3617967 ,   8.88207375],\n",
       "       [  8.88207375,  19.00109602]])"
      ]
     },
     "execution_count": 61,
     "metadata": {},
     "output_type": "execute_result"
    }
   ],
   "source": [
    "np.cov(rvs_63d_ellipse.T)"
   ]
  },
  {
   "cell_type": "code",
   "execution_count": 62,
   "metadata": {
    "collapsed": false,
    "deletable": true,
    "editable": true
   },
   "outputs": [
    {
     "data": {
      "text/plain": [
       "array([[  5.36335326,   8.88209052],\n",
       "       [  8.88209052,  19.0010962 ]])"
      ]
     },
     "execution_count": 62,
     "metadata": {},
     "output_type": "execute_result"
    }
   ],
   "source": [
    "np.dot(rvs_63d_ellipse.T,rvs_63d_ellipse)/(rvs_63d_ellipse.shape[0]-1)"
   ]
  },
  {
   "cell_type": "markdown",
   "metadata": {
    "deletable": true,
    "editable": true
   },
   "source": [
    "So we see that the core of the sample covariance matrix is $X^T\\cdot X$.\n",
    "\n",
    "The following is taken from chapter 12.2.3 \"Singular value decomposition (SVD)\" in [Machine Learning: A Probabilistic Perspective](https://www.amazon.com/Machine-Learning-Probabilistic-Perspective-Computation/dp/0262018020)."
   ]
  },
  {
   "cell_type": "markdown",
   "metadata": {
    "deletable": true,
    "editable": true
   },
   "source": [
    "If you have The SVD of $X$ as:\n",
    "$$X=U\\cdot S\\cdot V^T$$\n",
    "where $X\\in\\mathbb{R}^{N\\times D}$ then\n",
    "$$X^T\\cdot X=VS^TU^TUSV^T=VDV^T$$\n",
    "where $D=S^2$ is a diagonal matrix containing the squared singular values. Hence\n",
    "$$(X^TX)V=VD$$\n",
    "so:\n",
    "* the eigenvectors of $(X^TX)$ are equal to V (this we've seen already above where we looked at the right singular vectors of `rvs_63d_ellipse` and saw that they are the same as our `Q_63d_ellipse` matrix of eigenvectors of the covariance matrix) and \n",
    "* the eigenvalues are equal to the diagonal elements of $D$. \n",
    "\n",
    "This means:\n",
    "$$\\kappa_i^2(X)=\\lambda_i(X^TX)=(N-1)\\cdot\\lambda_i(\\Sigma^s)$$\n",
    "\n",
    "And together with the lemma 4.2 above we have:\n",
    "$$||X||_F^2=\\sum_i\\kappa_i^2(X)=(N-1)\\cdot\\sum_i\\lambda_i(\\Sigma^s)=(N-1)\\cdot\\tr(\\Sigma^s)$$"
   ]
  },
  {
   "cell_type": "markdown",
   "metadata": {
    "deletable": true,
    "editable": true
   },
   "source": [
    "Here is a summary of what we've done so far:"
   ]
  },
  {
   "cell_type": "markdown",
   "metadata": {
    "deletable": true,
    "editable": true
   },
   "source": [
    "$$\\left<\\pmb{x}^2\\right>=\\tr(\\Sigma^s)=\\sum_i\\lambda_i^s=\\frac{1}{N-1}||X||_F^2=\\frac{1}{N-1}\\sum_i\\kappa_i^2(X)$$"
   ]
  },
  {
   "cell_type": "markdown",
   "metadata": {
    "deletable": true,
    "editable": true
   },
   "source": [
    "### Connection between the singular values and eigenvalues of the covariance matrices"
   ]
  },
  {
   "cell_type": "markdown",
   "metadata": {
    "deletable": true,
    "editable": true
   },
   "source": [
    "In the answer 1 to the stackexchange question [Relationship between eigendecomposition and singular value decomposition](https://math.stackexchange.com/questions/28036/relationship-between-eigendecomposition-and-singular-value-decomposition) they clarify the relationship of the singular value decomposition and the eigen decomposition for symmetric matrices. This only works for symmetric matrices, which is the case for covariance matrices. Covariance matrices are not only symmetric but even [non-negative definite](https://en.wikipedia.org/wiki/Positive-definite_matrix).\n",
    "\n",
    "The below is valid for any non-negative definite symmetric matrix. Therefore we can also perform our example calculations on the distribution covariance matrix and not on the sample covariance matrix, which gives nicer numeric results.\n",
    "\n",
    "In numpy there exists an optimized version for the eigen decomposition for symmetric ([hermitian](https://en.wikipedia.org/wiki/Hermitian_matrix)) matrices `numpy.linalg.eigh`:"
   ]
  },
  {
   "cell_type": "code",
   "execution_count": 63,
   "metadata": {
    "collapsed": false,
    "deletable": true,
    "editable": true
   },
   "outputs": [
    {
     "data": {
      "text/html": [
       "<table style=\"display:inline\" border=\"1\" class=\"dataframe\">\n",
       "  <thead>\n",
       "    <tr style=\"text-align: right;\">\n",
       "      <th></th>\n",
       "      <th>0</th>\n",
       "    </tr>\n",
       "  </thead>\n",
       "  <tbody>\n",
       "    <tr>\n",
       "      <th>0</th>\n",
       "      <td>25.000</td>\n",
       "    </tr>\n",
       "    <tr>\n",
       "      <th>1</th>\n",
       "      <td>1.000</td>\n",
       "    </tr>\n",
       "  </tbody>\n",
       "</table style=\"display:inline\"><table style=\"display:inline\" border=\"1\" class=\"dataframe\">\n",
       "  <thead>\n",
       "    <tr style=\"text-align: right;\">\n",
       "      <th></th>\n",
       "      <th>0</th>\n",
       "      <th>1</th>\n",
       "    </tr>\n",
       "  </thead>\n",
       "  <tbody>\n",
       "    <tr>\n",
       "      <th>0</th>\n",
       "      <td>0.447</td>\n",
       "      <td>-0.894</td>\n",
       "    </tr>\n",
       "    <tr>\n",
       "      <th>1</th>\n",
       "      <td>0.894</td>\n",
       "      <td>0.447</td>\n",
       "    </tr>\n",
       "  </tbody>\n",
       "</table style=\"display:inline\">"
      ]
     },
     "metadata": {},
     "output_type": "display_data"
    }
   ],
   "source": [
    "S_63d_ellipse_evd = np.linalg.eigh(S_63d_ellipse)\n",
    "idx = S_63d_ellipse_evd[0].argsort()[::-1]\n",
    "S_63d_ellipse_evd = (S_63d_ellipse_evd[0][idx], S_63d_ellipse_evd[1][:,idx])\n",
    "display_side_by_side(S_63d_ellipse_evd[0], S_63d_ellipse_evd[1])"
   ]
  },
  {
   "cell_type": "markdown",
   "metadata": {
    "deletable": true,
    "editable": true
   },
   "source": [
    "Above we re-sorted the eigenvalues in descending order, so that we can compare them with the singular values below."
   ]
  },
  {
   "cell_type": "markdown",
   "metadata": {
    "deletable": true,
    "editable": true
   },
   "source": [
    "Actually the above result is expected alone because of the way how we constructed the matrix `S_63d_ellipse` and we could have taken directly the ingredients of our construction process:"
   ]
  },
  {
   "cell_type": "code",
   "execution_count": 64,
   "metadata": {
    "collapsed": false,
    "deletable": true,
    "editable": true
   },
   "outputs": [
    {
     "data": {
      "text/html": [
       "<table style=\"display:inline\" border=\"1\" class=\"dataframe\">\n",
       "  <thead>\n",
       "    <tr style=\"text-align: right;\">\n",
       "      <th></th>\n",
       "      <th>0</th>\n",
       "    </tr>\n",
       "  </thead>\n",
       "  <tbody>\n",
       "    <tr>\n",
       "      <th>0</th>\n",
       "      <td>25.000</td>\n",
       "    </tr>\n",
       "    <tr>\n",
       "      <th>1</th>\n",
       "      <td>1.000</td>\n",
       "    </tr>\n",
       "  </tbody>\n",
       "</table style=\"display:inline\"><table style=\"display:inline\" border=\"1\" class=\"dataframe\">\n",
       "  <thead>\n",
       "    <tr style=\"text-align: right;\">\n",
       "      <th></th>\n",
       "      <th>0</th>\n",
       "      <th>1</th>\n",
       "    </tr>\n",
       "  </thead>\n",
       "  <tbody>\n",
       "    <tr>\n",
       "      <th>0</th>\n",
       "      <td>-0.447</td>\n",
       "      <td>-0.894</td>\n",
       "    </tr>\n",
       "    <tr>\n",
       "      <th>1</th>\n",
       "      <td>-0.894</td>\n",
       "      <td>0.447</td>\n",
       "    </tr>\n",
       "  </tbody>\n",
       "</table style=\"display:inline\">"
      ]
     },
     "metadata": {},
     "output_type": "display_data"
    }
   ],
   "source": [
    "display_side_by_side(sqrtGamma_diag_63d_ellipse**2, Q_63d_ellipse)"
   ]
  },
  {
   "cell_type": "markdown",
   "metadata": {
    "deletable": true,
    "editable": true
   },
   "source": [
    "The reversal of signes of the first eigenvector does not matter as you have two sign choices when determining a normalized eigen vector from a matrix $A$:\n",
    "$$\\pmb{A}\\cdot\\pmb{v} = \\lambda \\pmb{v}$$\n",
    "Reversing the sign of $\\pmb{v}$ would deliver the same result."
   ]
  },
  {
   "cell_type": "markdown",
   "metadata": {
    "deletable": true,
    "editable": true
   },
   "source": [
    "Now let's look at the singular value decomposition of `S_63d_ellipse`:"
   ]
  },
  {
   "cell_type": "code",
   "execution_count": 65,
   "metadata": {
    "collapsed": false,
    "deletable": true,
    "editable": true
   },
   "outputs": [
    {
     "data": {
      "text/html": [
       "<table style=\"display:inline\" border=\"1\" class=\"dataframe\">\n",
       "  <thead>\n",
       "    <tr style=\"text-align: right;\">\n",
       "      <th></th>\n",
       "      <th>0</th>\n",
       "      <th>1</th>\n",
       "    </tr>\n",
       "  </thead>\n",
       "  <tbody>\n",
       "    <tr>\n",
       "      <th>0</th>\n",
       "      <td>-0.447</td>\n",
       "      <td>-0.894</td>\n",
       "    </tr>\n",
       "    <tr>\n",
       "      <th>1</th>\n",
       "      <td>-0.894</td>\n",
       "      <td>0.447</td>\n",
       "    </tr>\n",
       "  </tbody>\n",
       "</table style=\"display:inline\"><table style=\"display:inline\" border=\"1\" class=\"dataframe\">\n",
       "  <thead>\n",
       "    <tr style=\"text-align: right;\">\n",
       "      <th></th>\n",
       "      <th>0</th>\n",
       "    </tr>\n",
       "  </thead>\n",
       "  <tbody>\n",
       "    <tr>\n",
       "      <th>0</th>\n",
       "      <td>25.000</td>\n",
       "    </tr>\n",
       "    <tr>\n",
       "      <th>1</th>\n",
       "      <td>1.000</td>\n",
       "    </tr>\n",
       "  </tbody>\n",
       "</table style=\"display:inline\"><table style=\"display:inline\" border=\"1\" class=\"dataframe\">\n",
       "  <thead>\n",
       "    <tr style=\"text-align: right;\">\n",
       "      <th></th>\n",
       "      <th>0</th>\n",
       "      <th>1</th>\n",
       "    </tr>\n",
       "  </thead>\n",
       "  <tbody>\n",
       "    <tr>\n",
       "      <th>0</th>\n",
       "      <td>-0.447</td>\n",
       "      <td>-0.894</td>\n",
       "    </tr>\n",
       "    <tr>\n",
       "      <th>1</th>\n",
       "      <td>-0.894</td>\n",
       "      <td>0.447</td>\n",
       "    </tr>\n",
       "  </tbody>\n",
       "</table style=\"display:inline\">"
      ]
     },
     "metadata": {},
     "output_type": "display_data"
    }
   ],
   "source": [
    "S_63d_ellipse_svd = np.linalg.svd(S_63d_ellipse)\n",
    "display_side_by_side(S_63d_ellipse_svd[0], S_63d_ellipse_svd[1], S_63d_ellipse_svd[2])"
   ]
  },
  {
   "cell_type": "markdown",
   "metadata": {
    "deletable": true,
    "editable": true
   },
   "source": [
    "We see that the singular values match and the left and right singular vectors are the same (perhaps inverted and pointing into the other direction, e.g. multiplied by $-1$) as the eigenvectors."
   ]
  },
  {
   "cell_type": "markdown",
   "metadata": {
    "deletable": true,
    "editable": true
   },
   "source": [
    "In the stackexchange question we have a symmetric matrix $A$, which can be decomposed via the SVD:\n",
    "$$A=U\\Sigma V^T$$\n",
    "Here $V$ is almost $U$ except for the signs of columns of $V$ and $U$.\n",
    "\n",
    "Or via the EVD:\n",
    "$$\n",
    "\\DeclareMathOperator{\\sign}{sign}\n",
    "A=W\\Lambda W^T=\\sum_i w_i\\lambda_i w_i^T=\\sum_i w_i|\\lambda_i|\\sign(\\lambda_i) w_i^T\n",
    "$$"
   ]
  },
  {
   "cell_type": "markdown",
   "metadata": {
    "deletable": true,
    "editable": true
   },
   "source": [
    "The left singular vectors $u_i$ are $w_i$ and the right singular vectors $v_i$ are $\\sign(\\lambda_i)w_i$. As the covariance matrix is even non-negative definite we know that $\\sign{\\lambda_i}=+1$ and the singular value decomposition and the eigenvalue decomposition deliver the exact same results. \n",
    "\n",
    "So the summary is that for non-negative definite symmetric matrices like the covariance or sample covariance matrix the eigenvalue decomposition is the same as the singular value decomposition. We can extend our summary from above to:"
   ]
  },
  {
   "cell_type": "markdown",
   "metadata": {
    "deletable": true,
    "editable": true
   },
   "source": [
    "$$\\kappa_i(X^TX)=\\kappa_i^2(X)$$"
   ]
  },
  {
   "cell_type": "markdown",
   "metadata": {
    "deletable": true,
    "editable": true
   },
   "source": [
    "$$\\left<\\pmb{x}^2\\right>=\\tr(\\Sigma^s)=\\sum_i\\lambda_i^s=\\frac{1}{N-1}||X||_F^2=\\frac{1}{N-1}\\sum_i\\kappa_i^2(X)=\\sum_i\\kappa_i(\\Sigma^s)$$"
   ]
  },
  {
   "cell_type": "markdown",
   "metadata": {
    "deletable": true,
    "editable": true
   },
   "source": [
    "### Relationships for the distribution covariance matrix"
   ]
  },
  {
   "cell_type": "markdown",
   "metadata": {
    "deletable": true,
    "editable": true
   },
   "source": [
    "Above we've constructed all of our results based on the sample matrix $X$ and the sample covariance matrix $\\Sigma^s$. How does this look like for our distribution covariance matrix $\\Sigma$?"
   ]
  },
  {
   "cell_type": "markdown",
   "metadata": {
    "deletable": true,
    "editable": true
   },
   "source": [
    "Based on our construction:\n",
    "$$\\Sigma=AA^T=E\\cdot\\Gamma\\cdot E^T$$\n",
    "we get"
   ]
  },
  {
   "cell_type": "markdown",
   "metadata": {
    "deletable": true,
    "editable": true
   },
   "source": [
    "$$\\kappa_i(AA^T)=\\kappa_i^2(A)$$\n",
    "$$\\tr(\\Sigma)=\\sum_i\\lambda_i=\\sum_i\\kappa_i^2(A)=\\sum_i\\kappa_i(\\Sigma)$$"
   ]
  },
  {
   "cell_type": "code",
   "execution_count": 66,
   "metadata": {
    "collapsed": false,
    "deletable": true,
    "editable": true
   },
   "outputs": [
    {
     "data": {
      "image/png": "[encoded data removed]",
      "text/latex": [
       "$$26.0$$"
      ],
      "text/plain": [
       "26.0"
      ]
     },
     "execution_count": 66,
     "metadata": {},
     "output_type": "execute_result"
    }
   ],
   "source": [
    "np.trace(S_63d_ellipse)"
   ]
  },
  {
   "cell_type": "code",
   "execution_count": 67,
   "metadata": {
    "collapsed": false,
    "deletable": true,
    "editable": true
   },
   "outputs": [
    {
     "data": {
      "image/png": "[encoded data removed]",
      "text/latex": [
       "$$26.0$$"
      ],
      "text/plain": [
       "26.0"
      ]
     },
     "execution_count": 67,
     "metadata": {},
     "output_type": "execute_result"
    }
   ],
   "source": [
    "np.sum(S_63d_ellipse_evd[0])"
   ]
  },
  {
   "cell_type": "code",
   "execution_count": 68,
   "metadata": {
    "collapsed": false,
    "deletable": true,
    "editable": true
   },
   "outputs": [
    {
     "data": {
      "text/plain": [
       "array([ 5.,  1.])"
      ]
     },
     "execution_count": 68,
     "metadata": {},
     "output_type": "execute_result"
    }
   ],
   "source": [
    "A_63d_ellipse_svd = np.linalg.svd(A_63d_ellipse)\n",
    "A_63d_ellipse_svd[1]"
   ]
  },
  {
   "cell_type": "code",
   "execution_count": 69,
   "metadata": {
    "collapsed": false,
    "deletable": true,
    "editable": true
   },
   "outputs": [
    {
     "data": {
      "image/png": "[encoded data removed]",
      "text/latex": [
       "$$26.0$$"
      ],
      "text/plain": [
       "26.0"
      ]
     },
     "execution_count": 69,
     "metadata": {},
     "output_type": "execute_result"
    }
   ],
   "source": [
    "np.sum(A_63d_ellipse_svd[1]**2)"
   ]
  },
  {
   "cell_type": "code",
   "execution_count": 70,
   "metadata": {
    "collapsed": false,
    "deletable": true,
    "editable": true
   },
   "outputs": [
    {
     "data": {
      "image/png": "[encoded data removed]",
      "text/latex": [
       "$$26.0$$"
      ],
      "text/plain": [
       "26.0"
      ]
     },
     "execution_count": 70,
     "metadata": {},
     "output_type": "execute_result"
    }
   ],
   "source": [
    "np.sum(S_63d_ellipse_svd[1])"
   ]
  },
  {
   "cell_type": "markdown",
   "metadata": {
    "deletable": true,
    "editable": true
   },
   "source": [
    "Alltogether we have:\n",
    "$$\n",
    "\\left<\\pmb{x}^2\\right>=\\tr(\\Sigma^s)=\\sum_i\\lambda_i^s=\\frac{1}{N-1}||X||_F^2=\\frac{1}{N-1}\\sum_i\\kappa_i^2(X)=\\sum_i\\kappa_i(\\Sigma^s)\n",
    "\\approx\n",
    "\\tr(\\Sigma)=\\sum_i\\lambda_i=\\sum_i\\kappa_i^2(A)=\\sum_i\\kappa_i(\\Sigma)\n",
    "$$"
   ]
  },
  {
   "cell_type": "markdown",
   "metadata": {
    "deletable": true,
    "editable": true
   },
   "source": [
    "### \"Fraction of variance unexplained\" and \"explained variation\""
   ]
  },
  {
   "cell_type": "markdown",
   "metadata": {
    "deletable": true,
    "editable": true
   },
   "source": [
    "The above is quite useful once we look into quantifying the error of a model compared to the \"reality\".\n",
    "\n",
    "In statistics, [explained variation](https://en.wikipedia.org/wiki/Explained_variation) measures the proportion to which a mathematical model accounts for the variation (dispersion) of a given data set. Often, variation is quantified as variance; then, the more specific term explained variance can be used.\n",
    "\n",
    "This leads us to [fraction of variance unexplained](https://en.wikipedia.org/wiki/Fraction_of_variance_unexplained): In statistics, the fraction of variance unexplained (FVU) in the context of a regression task is the fraction of variance of the regressand (dependent variable) Y which cannot be explained, i.e., which is not correctly predicted, by the explanatory variables X."
   ]
  },
  {
   "cell_type": "markdown",
   "metadata": {
    "deletable": true,
    "editable": true
   },
   "source": [
    "### Total Variation in the z-scale / correlation matrix scale"
   ]
  },
  {
   "cell_type": "markdown",
   "metadata": {
    "deletable": true,
    "editable": true
   },
   "source": [
    "Usual practice is to rescale your data to the [z-scale](https://en.wikipedia.org/wiki/Standard_score) via for example the [StandardScaler](http://scikit-learn.org/stable/modules/generated/sklearn.preprocessing.StandardScaler.html) in sklearn."
   ]
  },
  {
   "cell_type": "code",
   "execution_count": 71,
   "metadata": {
    "collapsed": true,
    "deletable": true,
    "editable": true
   },
   "outputs": [],
   "source": [
    "rvs_63d_ellipse_zscaler = sklearn.preprocessing.StandardScaler()\n",
    "rvsS_63d_ellipse = rvs_63d_ellipse_zscaler.fit_transform(rvs_63d_ellipse)"
   ]
  },
  {
   "cell_type": "markdown",
   "metadata": {
    "deletable": true,
    "editable": true
   },
   "source": [
    "In that case you have as the covariance matrix the correlation matrix and the diagonal elements are all $1.0$ and the $\\tr{\\Sigma_z}$ equals the number of dimensions: $\\tr{\\Sigma_z}=D$."
   ]
  },
  {
   "cell_type": "markdown",
   "metadata": {
    "deletable": true,
    "editable": true
   },
   "source": [
    "In the z-scaled system we have:\n",
    "$$\n",
    "\\begin{eqnarray}\n",
    "\\sigma_d&=&1&\\quad\\hbox{all variances and sigmas are scaled to $1.0$}\\\\\n",
    "\\tr{\\Sigma_z}&=&\\sum_d \\sigma_d=D&\\quad\\hbox{the trace of the correlation matrix corresponds to the number of dimensions}\\\\\n",
    "\\tr{\\Sigma_z}&=&\\sum_i{\\lambda_z}_i&\\quad\\hbox{as the trace is invariant under basis transformations}\\\\\n",
    "\\left<z^2\\right>&=&\\sum_d {\\sigma_d^s}^2\\approx\\sum_d {\\sigma_d}^2=D&\\quad\\hbox{this is the relationship between the sample variance ${\\sigma_d^s}^2$ and the variance of the underlying distribution $\\sigma_d^2$}\\\\\n",
    "\\left<z^2\\right>&=&||Z||_F^2/(N-1)\\approx D&\\\\\n",
    "1.0&\\approx&||Z||_F^2/((N-1)\\cdot D)&\\\\\n",
    "\\end{eqnarray}\n",
    "$$"
   ]
  },
  {
   "cell_type": "code",
   "execution_count": 72,
   "metadata": {
    "collapsed": false,
    "deletable": true,
    "editable": true
   },
   "outputs": [
    {
     "data": {
      "image/png": "[encoded data removed]",
      "text/latex": [
       "$$2.00400801603$$"
      ],
      "text/plain": [
       "2.00400801603"
      ]
     },
     "execution_count": 72,
     "metadata": {},
     "output_type": "execute_result"
    }
   ],
   "source": [
    "np.linalg.norm(rvsS_63d_ellipse)**2/(rvs_63d_ellipse.shape[0]-1)"
   ]
  },
  {
   "cell_type": "code",
   "execution_count": 73,
   "metadata": {
    "collapsed": false,
    "deletable": true,
    "editable": true
   },
   "outputs": [
    {
     "data": {
      "text/html": [
       "<table style=\"display:inline\" border=\"1\" class=\"dataframe\">\n",
       "  <thead>\n",
       "    <tr style=\"text-align: right;\">\n",
       "      <th></th>\n",
       "      <th>0</th>\n",
       "    </tr>\n",
       "  </thead>\n",
       "  <tbody>\n",
       "    <tr>\n",
       "      <th>0</th>\n",
       "      <td>1.887</td>\n",
       "    </tr>\n",
       "    <tr>\n",
       "      <th>1</th>\n",
       "      <td>0.113</td>\n",
       "    </tr>\n",
       "  </tbody>\n",
       "</table style=\"display:inline\"><table style=\"display:inline\" border=\"1\" class=\"dataframe\">\n",
       "  <thead>\n",
       "    <tr style=\"text-align: right;\">\n",
       "      <th></th>\n",
       "      <th>0</th>\n",
       "      <th>1</th>\n",
       "    </tr>\n",
       "  </thead>\n",
       "  <tbody>\n",
       "    <tr>\n",
       "      <th>0</th>\n",
       "      <td>0.707</td>\n",
       "      <td>-0.707</td>\n",
       "    </tr>\n",
       "    <tr>\n",
       "      <th>1</th>\n",
       "      <td>0.707</td>\n",
       "      <td>0.707</td>\n",
       "    </tr>\n",
       "  </tbody>\n",
       "</table style=\"display:inline\">"
      ]
     },
     "metadata": {},
     "output_type": "display_data"
    }
   ],
   "source": [
    "SS_63d_ellipse_evd = np.linalg.eigh(SS_63d_ellipse)\n",
    "idx = SS_63d_ellipse_evd[0].argsort()[::-1]\n",
    "SS_63d_ellipse_evd = (SS_63d_ellipse_evd[0][idx], SS_63d_ellipse_evd[1][:,idx])\n",
    "display_side_by_side(SS_63d_ellipse_evd[0], SS_63d_ellipse_evd[1])"
   ]
  },
  {
   "cell_type": "code",
   "execution_count": 74,
   "metadata": {
    "collapsed": false,
    "deletable": true,
    "editable": true
   },
   "outputs": [
    {
     "data": {
      "image/png": "[encoded data removed]",
      "text/latex": [
       "$$2.0$$"
      ],
      "text/plain": [
       "2.0"
      ]
     },
     "execution_count": 74,
     "metadata": {},
     "output_type": "execute_result"
    }
   ],
   "source": [
    "np.sum(SS_63d_ellipse_evd[0])"
   ]
  },
  {
   "cell_type": "markdown",
   "metadata": {
    "deletable": true,
    "editable": true
   },
   "source": [
    "## Generalized Variance"
   ]
  },
  {
   "cell_type": "markdown",
   "metadata": {
    "deletable": true,
    "editable": true
   },
   "source": [
    "The total variation does not take into account the correlation between the variables. To take into account the correlations among pairs of variables an alternative measure of overall variance is suggested, the so called [**Generalized Variance**](http://faculty.ucr.edu/~ashis/publication/publications/ESS6053.PDF). By definition the generalized variance of a random vector $\\pmb{X}$ is equal to $\\left|\\pmb{\\Sigma}\\right|$, where $\\left|\\pmb{\\Sigma}\\right|$ means the determinante of $\\pmb{\\Sigma}$."
   ]
  },
  {
   "cell_type": "markdown",
   "metadata": {
    "deletable": true,
    "editable": true
   },
   "source": [
    "If we see the variance ellipsoid as generated by the transformation $\\pmb{A}$ as described at the very top:\n",
    "$$\\mathcal{E}=\\pmb{\\mu}+\\pmb{A}\\mathcal{S}$$\n",
    "Then the volume of the ellipsoid is given by:\n",
    "$$V(\\mathcal{E})=V(\\mathcal{S})\\cdot\\left|\\pmb{A}\\right|$$\n",
    "So the determinante of $\\pmb{A}$ is a measure of the volume of the variance ellipsoid. If we then add the fact that\n",
    "$$\\left|\\pmb{A}\\right|^2=\\left|\\pmb{\\Sigma}\\right|$$\n",
    "then we see that the generalized variance is something like the square of the volume of the ellipsoid."
   ]
  },
  {
   "cell_type": "markdown",
   "metadata": {
    "deletable": true,
    "editable": true
   },
   "source": [
    "## Other measures of dispersion"
   ]
  },
  {
   "cell_type": "markdown",
   "metadata": {
    "deletable": true,
    "editable": true
   },
   "source": [
    "Other measures of the dispersion of a multi-variate normal distribution have been proposed like in the paper [A measure for total variability in multivariate normal distribution](http://www.survo.fi/publications/Mustonen1997.pdf) by Seppo Mustonen. This paper also goes into the details of the problems of the total variation or the generalized variance."
   ]
  }
 ],
 "metadata": {
  "kernelspec": {
   "display_name": "Python 3",
   "language": "python",
   "name": "python3"
  },
  "language_info": {
   "codemirror_mode": {
    "name": "ipython",
    "version": 3
   },
   "file_extension": ".py",
   "mimetype": "text/x-python",
   "name": "python",
   "nbconvert_exporter": "python",
   "pygments_lexer": "ipython3",
   "version": "3.6.1"
  }
 },
 "nbformat": 4,
 "nbformat_minor": 2
}
