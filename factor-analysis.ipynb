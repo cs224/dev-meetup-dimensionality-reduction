{
 "cells": [
  {
   "cell_type": "markdown",
   "metadata": {
    "deletable": true,
    "editable": true
   },
   "source": [
    "# Factor Analysis"
   ]
  },
  {
   "cell_type": "markdown",
   "metadata": {
    "deletable": true,
    "editable": true
   },
   "source": [
    "The factor analysis model can be seen as several things at the same time:\n",
    "* It is a gaussian mixture model\n",
    "* It is a dimensionality reduction technique\n",
    "* It can be seen as a matrix factorization technique"
   ]
  },
  {
   "cell_type": "markdown",
   "metadata": {
    "deletable": true,
    "editable": true
   },
   "source": [
    "The basic model itself is simple to write down:\n",
    "$$\n",
    "\\newcommand{bfvec}[1]{{\\bf #1}}\n",
    "p(\\bfvec{x_i}\\;|\\;\\bfvec{z_i},\\bfvec{\\theta})=\\mathcal{N}(\\bfvec{W}\\cdot\\bfvec{z_i}+\\bfvec{\\mu},\\bfvec{\\Psi})$$\n",
    "where $\\bfvec{W}$ is a D$\\times$L matrix, known as **factor loading matrix**, and $\\bfvec{\\Psi}$ is a D$\\times$D covariance matrix.\n",
    "\n",
    "The $\\bfvec{z_i}$ are latent variables with $\\bfvec{z_i}\\in \\mathbb{R}^L$. The $\\bfvec{x_i}$ are $\\bfvec{x_i}\\in \\mathbb{R}^D$. The index $i$ is indexing the observations. Basically for every \"visible\" observation vector $\\bfvec{x_i}$ of dimension D there is an associated \"hidden\" or \"latent\" vector $\\bfvec{z_i}$ of dimension L (with $L<D$ for dimensionality reduction).\n",
    "\n",
    "We take $\\bfvec{\\Psi}$ to be diagonal, since the whole point of the model is to “force” $\\bfvec{z_i}$ to explain\n",
    "the correlation, rather than \"baking it in\" to the observation's covariance. This overall model\n",
    "is called **factor analysis** or **FA**. The special case in which $\\bfvec{\\Psi}=\\sigma^2\\bfvec{I}$ is called **probabilistic principal components analysis** or **PPCA**.\n",
    "\n",
    "You can find more information in chapter 12.1 \"Factor analysis\" of [Machine Learning: A Probabilistic Perspective](https://www.amazon.com/Machine-Learning-Probabilistic-Perspective-Computation/dp/0262018020)."
   ]
  },
  {
   "cell_type": "markdown",
   "metadata": {
    "deletable": true,
    "editable": true
   },
   "source": [
    "## References"
   ]
  },
  {
   "cell_type": "markdown",
   "metadata": {
    "deletable": true,
    "editable": true
   },
   "source": [
    "The following examples are a mix of the following three different blog posts:\n",
    "* [How to do factor analysis](https://blog.dominodatalab.com/how-to-do-factor-analysis) by [Nick Elprin](https://blog.dominodatalab.com/author/nick): this uses the standard R 'Psych' package.\n",
    "* [Fitting a Bayesian Factor Analysis Model in Stan](https://rfarouni.github.io/assets/projects/BayesianFactorAnalysis/BayesianFactorAnalysis.html) by [Rick Farouni](http://rfarouni.github.io): replicates the model in Stan.\n",
    "* [Probabilistic Factor Analysis Methods](https://www.cs.helsinki.fi/u/sakaya/tutorial) by [Suleiman A. Khan](https://users.ics.aalto.fi/suleiman/) & [Joseph H. Sakaya](https://www.cs.helsinki.fi/en/people/sakaya): uses the ADVI ([Automatic Variational Inference in Stan](https://arxiv.org/abs/1506.03431)) inference method rather than MCMC sampling and combines the model with ARD (Automatic Relevance Determination, see chapter 13.7 \"Automatic relevance determination (ARD)/sparse Bayesian learning (SBL)\" of [Machine Learning: A Probabilistic Perspective](https://www.amazon.com/Machine-Learning-Probabilistic-Perspective-Computation/dp/0262018020)) to automatically detect the number of latent dimensions."
   ]
  },
  {
   "cell_type": "markdown",
   "metadata": {
    "deletable": true,
    "editable": true
   },
   "source": [
    "Let's start with several imports. There are so many, because each example requires its own imports."
   ]
  },
  {
   "cell_type": "markdown",
   "metadata": {
    "deletable": true,
    "editable": true
   },
   "source": [
    "## Standard python imports"
   ]
  },
  {
   "cell_type": "code",
   "execution_count": 1,
   "metadata": {
    "collapsed": false,
    "deletable": true,
    "editable": true
   },
   "outputs": [],
   "source": [
    "%%capture\n",
    "%matplotlib inline\n",
    "import locale\n",
    "locale.setlocale(locale.LC_ALL, 'C')\n",
    "import os, timeit, collections\n",
    "\n",
    "import IPython.display\n",
    "\n",
    "import numpy as np, scipy, scipy.stats as stats, scipy.special, scipy.linalg, pandas as pd, \\\n",
    "    matplotlib.pyplot as plt, matplotlib.dates, xarray as xr, seaborn as sns\n",
    "    \n",
    "import readline # https://github.com/ContinuumIO/anaconda-issues/issues/152\n",
    "%load_ext rpy2.ipython\n",
    "import rpy2, rpy2.rinterface, rpy2.robjects, rpy2.robjects.packages, rpy2.robjects.lib, rpy2.robjects.lib.grid, \\\n",
    "    rpy2.robjects.lib.ggplot2, rpy2.robjects.pandas2ri, rpy2.interactive.process_revents, \\\n",
    "    rpy2.interactive, rpy2.robjects.lib.grdevices\n",
    "# rpy2.interactive.process_revents.start()\n",
    "rpy2.robjects.pandas2ri.activate()\n",
    "\n",
    "import pymc3 as pm\n",
    "from theano import tensor as tt\n",
    "import pystan, pystan.external.pymc.plots\n",
    "\n",
    "import datetime, time, pytz, dateutil.relativedelta\n",
    "\n",
    "pd.set_option('display.max_columns', 500)\n",
    "pd.set_option('display.width', 1000)\n",
    "pd.set_option('display.float_format', lambda x: '%.4f' % x)\n",
    "np.set_printoptions(edgeitems=10)\n",
    "np.set_printoptions(suppress=True)\n",
    "np.set_printoptions(precision=8)\n",
    "np.core.arrayprint._line_width = 180\n",
    "\n",
    "sns.set()\n",
    "\n",
    "SEED = 42\n",
    "np.random.seed(SEED)"
   ]
  },
  {
   "cell_type": "markdown",
   "metadata": {
    "deletable": true,
    "editable": true
   },
   "source": [
    "## R imports"
   ]
  },
  {
   "cell_type": "markdown",
   "metadata": {
    "deletable": true,
    "editable": true
   },
   "source": [
    "As next step let's import some R packages that we will need."
   ]
  },
  {
   "cell_type": "code",
   "execution_count": 2,
   "metadata": {
    "collapsed": false,
    "deletable": true,
    "editable": true
   },
   "outputs": [],
   "source": [
    "# import R's \"base\" package\n",
    "base = rpy2.robjects.packages.importr('base')\n",
    "# import R's utility package\n",
    "utils = rpy2.robjects.packages.importr('utils')\n",
    "# select a mirror for R packages\n",
    "utils.chooseCRANmirror(ind=1) # select the first mirror in the list\n",
    "\n",
    "# R package names\n",
    "packnames = ('psych', 'GPArotation')\n",
    "\n",
    "# R vector of strings\n",
    "\n",
    "# Selectively install what needs to be install.\n",
    "# We are fancy, just because we can.\n",
    "names_to_install = [x for x in packnames if not rpy2.robjects.packages.isinstalled(x)]\n",
    "if len(names_to_install) > 0:\n",
    "    utils.install_packages(rpy2.robjects.StrVector(names_to_install))"
   ]
  },
  {
   "cell_type": "code",
   "execution_count": 3,
   "metadata": {
    "collapsed": false,
    "deletable": true,
    "editable": true
   },
   "outputs": [
    {
     "data": {
      "text/plain": [
       "rpy2.robjects.packages.Package as a <module 'grDevices'>"
      ]
     },
     "execution_count": 3,
     "metadata": {},
     "output_type": "execute_result"
    }
   ],
   "source": [
    "grdevices = rpy2.robjects.packages.importr('grDevices')\n",
    "grdevices"
   ]
  },
  {
   "cell_type": "code",
   "execution_count": 4,
   "metadata": {
    "collapsed": false,
    "deletable": true,
    "editable": true
   },
   "outputs": [
    {
     "data": {
      "text/plain": [
       "rpy2.robjects.packages.Package as a <module 'psych'>"
      ]
     },
     "execution_count": 4,
     "metadata": {},
     "output_type": "execute_result"
    }
   ],
   "source": [
    "psych = rpy2.robjects.packages.importr('psych')\n",
    "psych"
   ]
  },
  {
   "cell_type": "code",
   "execution_count": 5,
   "metadata": {
    "collapsed": false,
    "deletable": true,
    "editable": true
   },
   "outputs": [
    {
     "data": {
      "text/plain": [
       "rpy2.robjects.packages.Package as a <module 'GPArotation'>"
      ]
     },
     "execution_count": 5,
     "metadata": {},
     "output_type": "execute_result"
    }
   ],
   "source": [
    "gparotation = rpy2.robjects.packages.importr('GPArotation')\n",
    "gparotation"
   ]
  },
  {
   "cell_type": "markdown",
   "metadata": {
    "deletable": true,
    "editable": true
   },
   "source": [
    "## Sample data generation"
   ]
  },
  {
   "cell_type": "markdown",
   "metadata": {
    "deletable": true,
    "editable": true
   },
   "source": [
    "The concrete simulated data example that I will try to reverse engineer via the above three methods is from [Fitting a Bayesian Factor Analysis Model in Stan](https://rfarouni.github.io/assets/projects/BayesianFactorAnalysis/BayesianFactorAnalysis.html) by [Rick Farouni](http://rfarouni.github.io)."
   ]
  },
  {
   "cell_type": "code",
   "execution_count": 6,
   "metadata": {
    "collapsed": true,
    "deletable": true,
    "editable": true
   },
   "outputs": [],
   "source": [
    "def build_toy_dataset(N=300):\n",
    "    D=10\n",
    "    K=3\n",
    "    mu_z    = np.zeros(K) # the mean of theta\n",
    "    sigma_z = np.diag(np.ones(K))\n",
    "\n",
    "    mu_epsilon = np.zeros(D) # the mean of epsilon\n",
    "    psi = np.diag([0.2079, 0.19, 0.1525, 0.20, 0.36, 0.1875, 0.1875, 1.00, 0.27, 0.27])\n",
    "\n",
    "    l1  = np.array([0.99, 0.00, 0.25, 0.00, 0.80, 0.00, 0.50, 0.00, 0.00, 0.00]).reshape(-1,1)\n",
    "    l2  = np.array([0.00, 0.90, 0.25, 0.40, 0.00, 0.50, 0.00, 0.00, -0.30, -0.30]).reshape(-1,1)\n",
    "    l3  = np.array([0.00, 0.00, 0.85, 0.80, 0.00, 0.75, 0.75, 0.00, 0.80, 0.80]).reshape(-1,1)\n",
    "    L = np.hstack([l1, l2, l3]) # size(10,3)\n",
    "\n",
    "    # sample factor scores # size(K,N) = size(3,N)\n",
    "    Z   = np.random.multivariate_normal(mu_z, sigma_z, size=N).T  \n",
    "    # sample error vector # size(D,N) = size(10,N)\n",
    "    epsilon = np.random.multivariate_normal(mu_epsilon, psi, size=N).T\n",
    "\n",
    "    X = np.dot(L, Z) + epsilon  # generate observable data # size(D,N) = size(10,N)\n",
    "    return X, L, Z\n",
    "\n",
    "# build_toy_dataset(N=12) # size(10,12)"
   ]
  },
  {
   "cell_type": "code",
   "execution_count": 7,
   "metadata": {
    "collapsed": false,
    "deletable": true,
    "editable": true
   },
   "outputs": [
    {
     "data": {
      "text/html": [
       "<div>\n",
       "<style>\n",
       "    .dataframe thead tr:only-child th {\n",
       "        text-align: right;\n",
       "    }\n",
       "\n",
       "    .dataframe thead th {\n",
       "        text-align: left;\n",
       "    }\n",
       "\n",
       "    .dataframe tbody tr th {\n",
       "        vertical-align: top;\n",
       "    }\n",
       "</style>\n",
       "<table border=\"1\" class=\"dataframe\">\n",
       "  <thead>\n",
       "    <tr style=\"text-align: right;\">\n",
       "      <th></th>\n",
       "      <th>x01</th>\n",
       "      <th>x02</th>\n",
       "      <th>x03</th>\n",
       "      <th>x04</th>\n",
       "      <th>x05</th>\n",
       "      <th>x06</th>\n",
       "      <th>x07</th>\n",
       "      <th>x08</th>\n",
       "      <th>x09</th>\n",
       "      <th>x10</th>\n",
       "    </tr>\n",
       "  </thead>\n",
       "  <tbody>\n",
       "    <tr>\n",
       "      <th>0</th>\n",
       "      <td>0.5789</td>\n",
       "      <td>-0.7172</td>\n",
       "      <td>1.4849</td>\n",
       "      <td>0.4836</td>\n",
       "      <td>0.1614</td>\n",
       "      <td>0.6961</td>\n",
       "      <td>1.0573</td>\n",
       "      <td>0.3687</td>\n",
       "      <td>1.2239</td>\n",
       "      <td>0.5746</td>\n",
       "    </tr>\n",
       "    <tr>\n",
       "      <th>1</th>\n",
       "      <td>1.4643</td>\n",
       "      <td>0.0542</td>\n",
       "      <td>0.1990</td>\n",
       "      <td>-0.1562</td>\n",
       "      <td>1.3499</td>\n",
       "      <td>-0.4860</td>\n",
       "      <td>0.6667</td>\n",
       "      <td>-0.3078</td>\n",
       "      <td>0.7026</td>\n",
       "      <td>0.0125</td>\n",
       "    </tr>\n",
       "    <tr>\n",
       "      <th>2</th>\n",
       "      <td>2.1083</td>\n",
       "      <td>0.4471</td>\n",
       "      <td>0.1619</td>\n",
       "      <td>-0.7498</td>\n",
       "      <td>0.6475</td>\n",
       "      <td>0.7095</td>\n",
       "      <td>0.6008</td>\n",
       "      <td>1.0736</td>\n",
       "      <td>-0.9696</td>\n",
       "      <td>-0.5367</td>\n",
       "    </tr>\n",
       "    <tr>\n",
       "      <th>3</th>\n",
       "      <td>0.7378</td>\n",
       "      <td>-0.8622</td>\n",
       "      <td>-0.5964</td>\n",
       "      <td>-0.7825</td>\n",
       "      <td>1.5627</td>\n",
       "      <td>-0.4754</td>\n",
       "      <td>0.2287</td>\n",
       "      <td>-0.5552</td>\n",
       "      <td>-1.3761</td>\n",
       "      <td>-0.9860</td>\n",
       "    </tr>\n",
       "    <tr>\n",
       "      <th>4</th>\n",
       "      <td>1.0815</td>\n",
       "      <td>-2.3869</td>\n",
       "      <td>-1.7890</td>\n",
       "      <td>-2.6238</td>\n",
       "      <td>0.7170</td>\n",
       "      <td>-2.2701</td>\n",
       "      <td>-1.4723</td>\n",
       "      <td>-1.2803</td>\n",
       "      <td>-0.8575</td>\n",
       "      <td>-0.4681</td>\n",
       "    </tr>\n",
       "  </tbody>\n",
       "</table>\n",
       "</div>"
      ],
      "text/plain": [
       "     x01     x02     x03     x04    x05     x06     x07     x08     x09     x10\n",
       "0 0.5789 -0.7172  1.4849  0.4836 0.1614  0.6961  1.0573  0.3687  1.2239  0.5746\n",
       "1 1.4643  0.0542  0.1990 -0.1562 1.3499 -0.4860  0.6667 -0.3078  0.7026  0.0125\n",
       "2 2.1083  0.4471  0.1619 -0.7498 0.6475  0.7095  0.6008  1.0736 -0.9696 -0.5367\n",
       "3 0.7378 -0.8622 -0.5964 -0.7825 1.5627 -0.4754  0.2287 -0.5552 -1.3761 -0.9860\n",
       "4 1.0815 -2.3869 -1.7890 -2.6238 0.7170 -2.2701 -1.4723 -1.2803 -0.8575 -0.4681"
      ]
     },
     "execution_count": 7,
     "metadata": {},
     "output_type": "execute_result"
    }
   ],
   "source": [
    "X, L,_ = build_toy_dataset()\n",
    "\n",
    "df = pd.DataFrame(X.T, columns=['x01', 'x02', 'x03', 'x04', 'x05', 'x06', 'x07', 'x08', 'x09', 'x10'])\n",
    "df.head()"
   ]
  },
  {
   "cell_type": "code",
   "execution_count": 8,
   "metadata": {
    "collapsed": false,
    "deletable": true,
    "editable": true
   },
   "outputs": [],
   "source": [
    "rdf = rpy2.robjects.pandas2ri.py2ri(df)\n",
    "# print(rdf)"
   ]
  },
  {
   "cell_type": "markdown",
   "metadata": {
    "deletable": true,
    "editable": true
   },
   "source": [
    "## Factor analysis via the R 'psych' package"
   ]
  },
  {
   "cell_type": "markdown",
   "metadata": {
    "deletable": true,
    "editable": true
   },
   "source": [
    "The \"standard\" way to proceed in factor analysis is to first determin the number of factors for the latent space via a so called \"scree plot\" and then perform the factor analysis based on this number as input.\n",
    "\n",
    "Because we simulated the data by hand we know that the number of latent factors (the dimension of the latent space) is 3. Let's see what the \"scree plot\" says:"
   ]
  },
  {
   "cell_type": "code",
   "execution_count": 9,
   "metadata": {
    "collapsed": false,
    "deletable": true,
    "editable": true
   },
   "outputs": [
    {
     "data": {
      "image/png": "[encoded data removed]",
      "text/plain": [
       "<IPython.core.display.Image object>"
      ]
     },
     "metadata": {},
     "output_type": "display_data"
    }
   ],
   "source": [
    "# scree_plot = psych.scree(rdf)\n",
    "with rpy2.robjects.lib.grdevices.render_to_bytesio(grdevices.png, width=512, height=448, res=90) as img:\n",
    "    psych.scree(rdf)\n",
    "    #rpy2.robjects.r.print(scree_plot)   \n",
    "IPython.display.display(IPython.display.Image(data=img.getvalue(), format='png', embed=True))"
   ]
  },
  {
   "cell_type": "markdown",
   "metadata": {
    "deletable": true,
    "editable": true
   },
   "source": [
    "As we are performing factor analysis (FA) and not Principal Component Analysis (PA) we have to take the empty dots. This would tell us that there are 2 factors rather than 3, which is wrong."
   ]
  },
  {
   "cell_type": "markdown",
   "metadata": {
    "deletable": true,
    "editable": true
   },
   "source": [
    "There is a better way than the scree plot to determin the number of factors, which is called \"parallel analysis\". In principle it should work as follows, but currently it hangs on my machine. I had it already working and it says that there are 3 factors, which is the correct value:"
   ]
  },
  {
   "cell_type": "code",
   "execution_count": 10,
   "metadata": {
    "collapsed": true,
    "deletable": true,
    "editable": true
   },
   "outputs": [],
   "source": [
    "#with rpy2.robjects.lib.grdevices.render_to_bytesio(grdevices.png, width=512, height=448, res=90) as img:\n",
    "#    psych.fa_parallel(rdf)\n",
    "#IPython.display.display(IPython.display.Image(data=img.getvalue(), format='png', embed=True))"
   ]
  },
  {
   "cell_type": "markdown",
   "metadata": {
    "deletable": true,
    "editable": true
   },
   "source": [
    "Now imagine we know the number of factors, 3, and want to perform the factor analysis. With the R psych package this works as follows:"
   ]
  },
  {
   "cell_type": "code",
   "execution_count": 11,
   "metadata": {
    "collapsed": true,
    "deletable": true,
    "editable": true
   },
   "outputs": [],
   "source": [
    "result = psych.fa(rdf, nfactors=rpy2.robjects.IntVector([3]), fm='minres', rotate='oblimin') # rotate='varimax'"
   ]
  },
  {
   "cell_type": "markdown",
   "metadata": {
    "deletable": true,
    "editable": true
   },
   "source": [
    "And from the result we can extract the loadings as follows:"
   ]
  },
  {
   "cell_type": "code",
   "execution_count": 12,
   "metadata": {
    "collapsed": false,
    "deletable": true,
    "editable": true
   },
   "outputs": [
    {
     "data": {
      "text/plain": [
       "array([[ 0.00544034,  0.90369275,  0.00354366],\n",
       "       [ 0.03402593,  0.02093004,  0.90616737],\n",
       "       [ 0.8980303 ,  0.13397521,  0.10373306],\n",
       "       [ 0.81270743, -0.11026588,  0.3307561 ],\n",
       "       [-0.00280862,  0.7325404 ,  0.03212513],\n",
       "       [ 0.79762678, -0.10924608,  0.4071758 ],\n",
       "       [ 0.79494239,  0.40091209, -0.08089782],\n",
       "       [-0.06234762,  0.0058739 ,  0.04540959],\n",
       "       [ 0.80832087, -0.13629152, -0.39046584],\n",
       "       [ 0.80171872, -0.09195148, -0.34299993]])"
      ]
     },
     "execution_count": 12,
     "metadata": {},
     "output_type": "execute_result"
    }
   ],
   "source": [
    "loadings = np.array(result[result.names.index('loadings')]).reshape(10,3)\n",
    "loadings"
   ]
  },
  {
   "cell_type": "markdown",
   "metadata": {
    "deletable": true,
    "editable": true
   },
   "source": [
    "Comparing this to the values of our original L matrix we see that column 0 of the loadings result corresponds to column 2 of the L matrix. Column 1 of the loadings matrix corresponds somehow to column 0 of the L matrix. And column 2 of the loadings matrix corresponds to column 1 of the L matrix."
   ]
  },
  {
   "cell_type": "code",
   "execution_count": 13,
   "metadata": {
    "collapsed": false,
    "deletable": true,
    "editable": true
   },
   "outputs": [
    {
     "data": {
      "text/plain": [
       "array([[ 0.99,  0.  ,  0.  ],\n",
       "       [ 0.  ,  0.9 ,  0.  ],\n",
       "       [ 0.25,  0.25,  0.85],\n",
       "       [ 0.  ,  0.4 ,  0.8 ],\n",
       "       [ 0.8 ,  0.  ,  0.  ],\n",
       "       [ 0.  ,  0.5 ,  0.75],\n",
       "       [ 0.5 ,  0.  ,  0.75],\n",
       "       [ 0.  ,  0.  ,  0.  ],\n",
       "       [ 0.  , -0.3 ,  0.8 ],\n",
       "       [ 0.  , -0.3 ,  0.8 ]])"
      ]
     },
     "execution_count": 13,
     "metadata": {},
     "output_type": "execute_result"
    }
   ],
   "source": [
    "L"
   ]
  },
  {
   "cell_type": "markdown",
   "metadata": {
    "deletable": true,
    "editable": true
   },
   "source": [
    "### Evaluation of the result"
   ]
  },
  {
   "cell_type": "markdown",
   "metadata": {
    "deletable": true,
    "editable": true
   },
   "source": [
    "In factor analysis you have 2 tasks. The first task is to find the latent linear sub-space. The second task is to find an orientation (rotation) of the coordinate system in this linear sub-space that you consider as \"good\".\n",
    "\n",
    "For our purpose here the rotation is less relevant, but it matters for human interpretability.\n",
    "\n",
    "An orthogonal rotation assumes that the factors are uncorrelated, while an oblique rotation assumes they are correlated. The choice between orthogonal vs. oblique choice depends on your particular use-case. If your data consists of items from one large domain and you have no reason to think that certain behaviors could be completely uncorrelated, use oblique rotation. If you want to know more, see [Factor Rotations in Factor Analyses](http://www.utdallas.edu/~herve/Abdi-rotations-pretty.pdf) by Hervé Abdi for a brief overview, or [Choosing the Right Type of Rotation in PCA and EFA](http://hosted.jalt.org/test/PDF/Brown31.pdf) for a little more depth.\n",
    "\n",
    "Two popular types of rotation are Varimax (orthogonal), and Oblimin (oblique)."
   ]
  },
  {
   "cell_type": "markdown",
   "metadata": {
    "deletable": true,
    "editable": true
   },
   "source": [
    "Independent of rotation, how would you evaluate how close the identified `loadings` subspace is compared to our input matrix `L`?\n",
    "\n",
    "As we work with mean zero data, we know that both sub-spaces pass through the coordinate system origin.\n",
    "\n",
    "In 3 dimensions, if you would want to compare how closely two 2-dimensional planes match each other you could use the angle between their normal vectors as a measure of similarity. If this angle is 0° the planes match completely. If this angel is 90° the planes are orthogonal to on eachother."
   ]
  },
  {
   "cell_type": "markdown",
   "metadata": {
    "deletable": true,
    "editable": true
   },
   "source": [
    "#### Principal angles / angles between flats"
   ]
  },
  {
   "cell_type": "markdown",
   "metadata": {
    "deletable": true,
    "editable": true
   },
   "source": [
    "It turns out that this idea can be extended to higher dimensional spaces and it is called [Principal_angles](http://en.wikipedia.org/wiki/Principal_angles) or \"angles between flats\". I've found an implementation in the [PyPhysim](https://github.com/darcamo/pyphysim) package: [pyphysim.subspace.metrics](http://pyphysim.readthedocs.io/en/latest/_modules/pyphysim/subspace/metrics.html). You can find more details in the paper [Principal Angles Between Subspaces and Their Tangents](https://www.merl.com/publications/docs/TR2012-058.pdf) and here is some [matlab code](https://sensblogs.wordpress.com/2011/09/07/matlab-codes-for-principal-angles-also-termed-as-canonical-correlation-between-any-arbitrary-subspaces-redirected-from-jen-mei-changs-dissertation/)."
   ]
  },
  {
   "cell_type": "code",
   "execution_count": 14,
   "metadata": {
    "collapsed": true,
    "deletable": true,
    "editable": true
   },
   "outputs": [],
   "source": [
    "def calc_principal_angles(matrix1, matrix2):\n",
    "    \"\"\"\n",
    "    Calculates the principal angles between `matrix1` and `matrix2`.\n",
    "\n",
    "    Parameters\n",
    "    ----------\n",
    "    matrix1 : np.ndarray\n",
    "        A 2D numpy array.\n",
    "    matrix2 : np.ndarray\n",
    "        A 2D numpy array.\n",
    "\n",
    "    Returns\n",
    "    -------\n",
    "    np.ndarray\n",
    "        The principal angles between `matrix1` and `matrix2`. This is a\n",
    "        1D numpy array.\n",
    "\n",
    "    See also\n",
    "    --------\n",
    "    calc_chordal_distance_from_principal_angles\n",
    "\n",
    "    Examples\n",
    "    --------\n",
    "    >>> A = np.array([[1, 2], [3, 4], [5, 6]])\n",
    "    >>> B = np.array([[1, 5], [3, 7], [5, -1]])\n",
    "    >>> print(calc_principal_angles(A, B))\n",
    "    [ 0.          0.54312217]\n",
    "    \"\"\"\n",
    "    # First we need to find the orthogonal basis for matrix1 and\n",
    "    # matrix2. This can be done with the QR decomposition. Note that if\n",
    "    # matrix1 has 'n' columns then its orthogonal basis is given by the\n",
    "    # first 'n' columns of the 'Q' matrix from its QR decomposition.\n",
    "    Q1 = np.linalg.qr(matrix1)[0]\n",
    "    Q2 = np.linalg.qr(matrix2)[0]\n",
    "\n",
    "    # TODO: Test who has more columns. Q1 must have dimension grater than\n",
    "    # or equal to Q2 so that the SVD can be calculated in the order below.\n",
    "    #\n",
    "    # See the algorithm in\n",
    "    # http://sensblogs.wordpress.com/2011/09/07/matlab-codes-for-principal-angles-also-termed-as-canonical-correlation-between-any-arbitrary-subspaces-redirected-from-jen-mei-changs-dissertation/\n",
    "    S = np.linalg.svd(\n",
    "        Q1.conjugate().transpose().dot(Q2), full_matrices=False)[1]\n",
    "\n",
    "    # The singular values of S vary between 0 and 1, but due to\n",
    "    # computational impressions there can be some value above 1 (by a very\n",
    "    # small value). Below we change values greater then 1 to be equal to 1\n",
    "    # to avoid problems with the arc-cos call later.\n",
    "    S[S > 1] = 1  # Change values greater then 1 to 1\n",
    "\n",
    "    # The singular values in the matrix S are equal to the cosine of the\n",
    "    # principal angles. We can calculate the arc-cosine of each element\n",
    "    # then.\n",
    "    return np.arccos(S)"
   ]
  },
  {
   "cell_type": "markdown",
   "metadata": {
    "deletable": true,
    "editable": true
   },
   "source": [
    "Let's check the implementation with the example given in the documentation string:"
   ]
  },
  {
   "cell_type": "code",
   "execution_count": 15,
   "metadata": {
    "collapsed": false,
    "deletable": true,
    "editable": true
   },
   "outputs": [
    {
     "data": {
      "text/plain": [
       "array([[1, 2],\n",
       "       [3, 4],\n",
       "       [5, 6]])"
      ]
     },
     "execution_count": 15,
     "metadata": {},
     "output_type": "execute_result"
    }
   ],
   "source": [
    "A = np.array([[1, 2], [3, 4], [5, 6]])\n",
    "A"
   ]
  },
  {
   "cell_type": "code",
   "execution_count": 16,
   "metadata": {
    "collapsed": false,
    "deletable": true,
    "editable": true
   },
   "outputs": [
    {
     "data": {
      "text/plain": [
       "array([[ 1,  5],\n",
       "       [ 3,  7],\n",
       "       [ 5, -1]])"
      ]
     },
     "execution_count": 16,
     "metadata": {},
     "output_type": "execute_result"
    }
   ],
   "source": [
    "B = np.array([[1, 5], [3, 7], [5, -1]])\n",
    "B"
   ]
  },
  {
   "cell_type": "code",
   "execution_count": 17,
   "metadata": {
    "collapsed": false,
    "deletable": true,
    "editable": true
   },
   "outputs": [
    {
     "data": {
      "text/plain": [
       "array([ 0.        ,  0.54312217])"
      ]
     },
     "execution_count": 17,
     "metadata": {},
     "output_type": "execute_result"
    }
   ],
   "source": [
    "calc_principal_angles(A, B)"
   ]
  },
  {
   "cell_type": "markdown",
   "metadata": {
    "deletable": true,
    "editable": true
   },
   "source": [
    "If you want to have the values in ° rather than radians you have to convert the values as follows:"
   ]
  },
  {
   "cell_type": "code",
   "execution_count": 18,
   "metadata": {
    "collapsed": false,
    "deletable": true,
    "editable": true
   },
   "outputs": [
    {
     "data": {
      "text/plain": [
       "array([  0.        ,  31.11860813])"
      ]
     },
     "execution_count": 18,
     "metadata": {},
     "output_type": "execute_result"
    }
   ],
   "source": [
    "180.0*calc_principal_angles(A, B)/np.pi"
   ]
  },
  {
   "cell_type": "markdown",
   "metadata": {
    "deletable": true,
    "editable": true
   },
   "source": [
    "The number of angles equal to zero is the dimension of the space where the two subspaces intersect. The smaller the angeles the closer the two subspaces are to each other. Let's see what we get for our `loadings` matrix and the known `L` matrix:"
   ]
  },
  {
   "cell_type": "code",
   "execution_count": 19,
   "metadata": {
    "collapsed": false,
    "deletable": true,
    "editable": true
   },
   "outputs": [
    {
     "data": {
      "text/plain": [
       "array([ 1.25416364,  2.61024744,  4.68821628])"
      ]
     },
     "execution_count": 19,
     "metadata": {},
     "output_type": "execute_result"
    }
   ],
   "source": [
    "180.0*calc_principal_angles(L, loadings)/np.pi"
   ]
  },
  {
   "cell_type": "markdown",
   "metadata": {
    "deletable": true,
    "editable": true
   },
   "source": [
    "#### Grassmanian norm"
   ]
  },
  {
   "cell_type": "markdown",
   "metadata": {
    "deletable": true,
    "editable": true
   },
   "source": [
    "Another way to compare how close two sub-spaces are to each other is the [Grassmanian](https://en.wikipedia.org/wiki/Grassmannian) norm. "
   ]
  },
  {
   "cell_type": "markdown",
   "metadata": {
    "deletable": true,
    "editable": true
   },
   "source": [
    "Let's first develop a few pre-requisits.\n",
    "\n",
    "If you have a sub-space defined by a set of vectors $\\bfvec{a_i}$ embedded in a higher dimensional space then you can create a matrix out of these column vectors $A=[\\bfvec{a_1}, \\bfvec{a_2}, ..., \\bfvec{a_n}]$ and you say that this sub-space is the **column space** of $A$. In that regard the colum space of our matrix $L$ defines the sub-space in which our data-points lie (plus the noise $\\mathcal{N}(\\mu,\\sigma)$ of course)."
   ]
  },
  {
   "cell_type": "markdown",
   "metadata": {
    "deletable": true,
    "editable": true
   },
   "source": [
    "If you have an arbitrary vector $\\bfvec{b}$ of the full space, how an you project this vector into the column space of A? The full math is described in this lecture on [projections onto subspaces](https://ocw.mit.edu/courses/mathematics/18-06sc-linear-algebra-fall-2011/least-squares-determinants-and-eigenvalues/projections-onto-subspaces/MIT18_06SCF11_Ses2.2sum.pdf), but the code for doing this is here:"
   ]
  },
  {
   "cell_type": "code",
   "execution_count": 20,
   "metadata": {
    "collapsed": true,
    "deletable": true,
    "editable": true
   },
   "outputs": [],
   "source": [
    "def projection_matrix(A):\n",
    "    inv_AT_A = scipy.linalg.inv(np.dot(A.T, A))\n",
    "    P = np.dot(np.dot(A, inv_AT_A),A.T)\n",
    "    return P"
   ]
  },
  {
   "cell_type": "markdown",
   "metadata": {
    "deletable": true,
    "editable": true
   },
   "source": [
    "As a test, let's take one of the column vectors of $L$ and project it into the column space of $L$. This should leave the column vectors of $L$ unchanged, as it is already part of this sub-space."
   ]
  },
  {
   "cell_type": "code",
   "execution_count": 21,
   "metadata": {
    "collapsed": false,
    "deletable": true,
    "editable": true
   },
   "outputs": [
    {
     "data": {
      "text/plain": [
       "array([[ 0.99,  0.  ,  0.  ],\n",
       "       [ 0.  ,  0.9 ,  0.  ],\n",
       "       [ 0.25,  0.25,  0.85],\n",
       "       [ 0.  ,  0.4 ,  0.8 ],\n",
       "       [ 0.8 ,  0.  ,  0.  ],\n",
       "       [ 0.  ,  0.5 ,  0.75],\n",
       "       [ 0.5 ,  0.  ,  0.75],\n",
       "       [ 0.  ,  0.  ,  0.  ],\n",
       "       [ 0.  , -0.3 ,  0.8 ],\n",
       "       [ 0.  , -0.3 ,  0.8 ]])"
      ]
     },
     "execution_count": 21,
     "metadata": {},
     "output_type": "execute_result"
    }
   ],
   "source": [
    "L"
   ]
  },
  {
   "cell_type": "code",
   "execution_count": 22,
   "metadata": {
    "collapsed": false,
    "deletable": true,
    "editable": true
   },
   "outputs": [
    {
     "data": {
      "text/plain": [
       "array([ 0.99,  0.  ,  0.25,  0.  ,  0.8 ,  0.  ,  0.5 ,  0.  ,  0.  ,  0.  ])"
      ]
     },
     "execution_count": 22,
     "metadata": {},
     "output_type": "execute_result"
    }
   ],
   "source": [
    "L[:,0]"
   ]
  },
  {
   "cell_type": "code",
   "execution_count": 23,
   "metadata": {
    "collapsed": false,
    "deletable": true,
    "editable": true
   },
   "outputs": [
    {
     "data": {
      "text/plain": [
       "array([ 0.99, -0.  ,  0.25,  0.  ,  0.8 ,  0.  ,  0.5 ,  0.  ,  0.  ,  0.  ])"
      ]
     },
     "execution_count": 23,
     "metadata": {},
     "output_type": "execute_result"
    }
   ],
   "source": [
    " np.dot(projection_matrix(L), L[:,0])"
   ]
  },
  {
   "cell_type": "markdown",
   "metadata": {
    "deletable": true,
    "editable": true
   },
   "source": [
    "Which is correct."
   ]
  },
  {
   "cell_type": "markdown",
   "metadata": {
    "deletable": true,
    "editable": true
   },
   "source": [
    "As a second ingredient we will the the [operator norm](https://en.wikipedia.org/wiki/Operator_norm), which is defined as:"
   ]
  },
  {
   "cell_type": "markdown",
   "metadata": {
    "deletable": true,
    "editable": true
   },
   "source": [
    "$$||A||_{op} = \\inf\\{c\\ge0:||Av||\\le c||v||\\space\\hbox{for all}\\space v\\in V\\}$$"
   ]
  },
  {
   "cell_type": "markdown",
   "metadata": {
    "deletable": true,
    "editable": true
   },
   "source": [
    "This basically says that once you have a norm on vectors then you can produce out of it a norm for matrices (operators)."
   ]
  },
  {
   "cell_type": "markdown",
   "metadata": {
    "deletable": true,
    "editable": true
   },
   "source": [
    "Finally we can define the Grassmanian norm as follows:"
   ]
  },
  {
   "cell_type": "markdown",
   "metadata": {
    "deletable": true,
    "editable": true
   },
   "source": [
    "$$d(W, W')=||P_W-P_{W'}||_{op}$$"
   ]
  },
  {
   "cell_type": "markdown",
   "metadata": {
    "deletable": true,
    "editable": true
   },
   "source": [
    "Which basically says that you use each matrix $W$ and $W'$ as a project matrix and you look how far the points projected into the respective column spaces of $W$ and $W'$ lie apart."
   ]
  },
  {
   "cell_type": "markdown",
   "metadata": {
    "deletable": true,
    "editable": true
   },
   "source": [
    "The code for this looks as follows:"
   ]
  },
  {
   "cell_type": "code",
   "execution_count": 24,
   "metadata": {
    "collapsed": true,
    "deletable": true,
    "editable": true
   },
   "outputs": [],
   "source": [
    "def grassmannian_norm(M1, M2, type=2):\n",
    "    return scipy.linalg.norm(projection_matrix(M1) - projection_matrix(M2), type)"
   ]
  },
  {
   "cell_type": "markdown",
   "metadata": {
    "deletable": true,
    "editable": true
   },
   "source": [
    "The norm that you take in the vector space does not matter too much and as default we've taken the 2-norm, which means for matrices the largest singular value. \n",
    "\n",
    "The reason for this default choice is that in this case the Grassmanian norm is equal to the largest principal angle, which we can verify as follows:"
   ]
  },
  {
   "cell_type": "code",
   "execution_count": 25,
   "metadata": {
    "collapsed": false,
    "deletable": true,
    "editable": true
   },
   "outputs": [
    {
     "data": {
      "text/plain": [
       "0.51681139412170296"
      ]
     },
     "execution_count": 25,
     "metadata": {},
     "output_type": "execute_result"
    }
   ],
   "source": [
    "grassmannian_norm(A, B)"
   ]
  },
  {
   "cell_type": "markdown",
   "metadata": {
    "deletable": true,
    "editable": true
   },
   "source": [
    "Or for comparing our `loadings` matrix and the known `L` matrix:"
   ]
  },
  {
   "cell_type": "code",
   "execution_count": 26,
   "metadata": {
    "collapsed": false,
    "deletable": true,
    "editable": true
   },
   "outputs": [
    {
     "data": {
      "text/plain": [
       "4.682986527950983"
      ]
     },
     "execution_count": 26,
     "metadata": {},
     "output_type": "execute_result"
    }
   ],
   "source": [
    "180.0*grassmannian_norm(L, loadings)/np.pi"
   ]
  },
  {
   "cell_type": "markdown",
   "metadata": {
    "deletable": true,
    "editable": true
   },
   "source": [
    "#### Summary of evaluation of the result"
   ]
  },
  {
   "cell_type": "markdown",
   "metadata": {
    "deletable": true,
    "editable": true
   },
   "source": [
    "Based on the principal angles and the Grassmanian norm we can say that the R \"psych\" package did a good job to recover the original sub-plane."
   ]
  }
 ],
 "metadata": {
  "kernelspec": {
   "display_name": "Python 3",
   "language": "python",
   "name": "python3"
  },
  "language_info": {
   "codemirror_mode": {
    "name": "ipython",
    "version": 3
   },
   "file_extension": ".py",
   "mimetype": "text/x-python",
   "name": "python",
   "nbconvert_exporter": "python",
   "pygments_lexer": "ipython3",
   "version": "3.6.1"
  }
 },
 "nbformat": 4,
 "nbformat_minor": 2
}
